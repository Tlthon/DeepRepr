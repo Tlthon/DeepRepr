{
  "cells": [
    {
      "cell_type": "markdown",
      "metadata": {
        "id": "view-in-github",
        "colab_type": "text"
      },
      "source": [
        "<a href=\"https://colab.research.google.com/github/Tlthon/DeepRepr/blob/main/week2_question.ipynb\" target=\"_parent\"><img src=\"https://colab.research.google.com/assets/colab-badge.svg\" alt=\"Open In Colab\"/></a>"
      ]
    },
    {
      "cell_type": "markdown",
      "metadata": {
        "id": "JxFnGd5T0bOu"
      },
      "source": [
        "# COMP0188 Lab 2: Multi-Layer Perceptrons (MLPs)\n",
        "\n",
        "In this lab we will cover multi-layer perceptrons in more detail. The lab is split into two sections.\n",
        "\n",
        "First, we implement MLPs in pytorch, and explore different hyperparameters and design decisions (e.g. learning rates, optimizers, architecture) that can effect performance.\n",
        "\n",
        "Second, we will implement and train an MLP from scratch, using numpy! This is a very useful exercise to help ensure you have a good understanding of the low-level details related to MLP neural networks and stochastic gradient descent.\n",
        "\n",
        "Lets begin!"
      ]
    },
    {
      "cell_type": "code",
      "source": [
        "%pip install wandb\n"
      ],
      "metadata": {
        "colab": {
          "base_uri": "https://localhost:8080/"
        },
        "collapsed": true,
        "id": "u2b_bAeNsuTp",
        "outputId": "d5a777e1-c4d9-47fc-c885-24caf8338533"
      },
      "execution_count": null,
      "outputs": [
        {
          "output_type": "stream",
          "name": "stdout",
          "text": [
            "Collecting wandb\n",
            "  Downloading wandb-0.18.3-py3-none-manylinux_2_17_x86_64.manylinux2014_x86_64.whl.metadata (9.7 kB)\n",
            "Requirement already satisfied: click!=8.0.0,>=7.1 in /usr/local/lib/python3.10/dist-packages (from wandb) (8.1.7)\n",
            "Collecting docker-pycreds>=0.4.0 (from wandb)\n",
            "  Downloading docker_pycreds-0.4.0-py2.py3-none-any.whl.metadata (1.8 kB)\n",
            "Collecting gitpython!=3.1.29,>=1.0.0 (from wandb)\n",
            "  Downloading GitPython-3.1.43-py3-none-any.whl.metadata (13 kB)\n",
            "Requirement already satisfied: platformdirs in /usr/local/lib/python3.10/dist-packages (from wandb) (4.3.6)\n",
            "Requirement already satisfied: protobuf!=4.21.0,!=5.28.0,<6,>=3.19.0 in /usr/local/lib/python3.10/dist-packages (from wandb) (3.20.3)\n",
            "Requirement already satisfied: psutil>=5.0.0 in /usr/local/lib/python3.10/dist-packages (from wandb) (5.9.5)\n",
            "Requirement already satisfied: pyyaml in /usr/local/lib/python3.10/dist-packages (from wandb) (6.0.2)\n",
            "Requirement already satisfied: requests<3,>=2.0.0 in /usr/local/lib/python3.10/dist-packages (from wandb) (2.32.3)\n",
            "Collecting sentry-sdk>=1.0.0 (from wandb)\n",
            "  Downloading sentry_sdk-2.16.0-py2.py3-none-any.whl.metadata (9.8 kB)\n",
            "Collecting setproctitle (from wandb)\n",
            "  Downloading setproctitle-1.3.3-cp310-cp310-manylinux_2_5_x86_64.manylinux1_x86_64.manylinux_2_17_x86_64.manylinux2014_x86_64.whl.metadata (9.9 kB)\n",
            "Requirement already satisfied: setuptools in /usr/local/lib/python3.10/dist-packages (from wandb) (71.0.4)\n",
            "Requirement already satisfied: six>=1.4.0 in /usr/local/lib/python3.10/dist-packages (from docker-pycreds>=0.4.0->wandb) (1.16.0)\n",
            "Collecting gitdb<5,>=4.0.1 (from gitpython!=3.1.29,>=1.0.0->wandb)\n",
            "  Downloading gitdb-4.0.11-py3-none-any.whl.metadata (1.2 kB)\n",
            "Requirement already satisfied: charset-normalizer<4,>=2 in /usr/local/lib/python3.10/dist-packages (from requests<3,>=2.0.0->wandb) (3.3.2)\n",
            "Requirement already satisfied: idna<4,>=2.5 in /usr/local/lib/python3.10/dist-packages (from requests<3,>=2.0.0->wandb) (3.10)\n",
            "Requirement already satisfied: urllib3<3,>=1.21.1 in /usr/local/lib/python3.10/dist-packages (from requests<3,>=2.0.0->wandb) (2.2.3)\n",
            "Requirement already satisfied: certifi>=2017.4.17 in /usr/local/lib/python3.10/dist-packages (from requests<3,>=2.0.0->wandb) (2024.8.30)\n",
            "Collecting smmap<6,>=3.0.1 (from gitdb<5,>=4.0.1->gitpython!=3.1.29,>=1.0.0->wandb)\n",
            "  Downloading smmap-5.0.1-py3-none-any.whl.metadata (4.3 kB)\n",
            "Downloading wandb-0.18.3-py3-none-manylinux_2_17_x86_64.manylinux2014_x86_64.whl (13.0 MB)\n",
            "\u001b[2K   \u001b[90m━━━━━━━━━━━━━━━━━━━━━━━━━━━━━━━━━━━━━━━━\u001b[0m \u001b[32m13.0/13.0 MB\u001b[0m \u001b[31m56.3 MB/s\u001b[0m eta \u001b[36m0:00:00\u001b[0m\n",
            "\u001b[?25hDownloading docker_pycreds-0.4.0-py2.py3-none-any.whl (9.0 kB)\n",
            "Downloading GitPython-3.1.43-py3-none-any.whl (207 kB)\n",
            "\u001b[2K   \u001b[90m━━━━━━━━━━━━━━━━━━━━━━━━━━━━━━━━━━━━━━━━\u001b[0m \u001b[32m207.3/207.3 kB\u001b[0m \u001b[31m14.5 MB/s\u001b[0m eta \u001b[36m0:00:00\u001b[0m\n",
            "\u001b[?25hDownloading sentry_sdk-2.16.0-py2.py3-none-any.whl (313 kB)\n",
            "\u001b[2K   \u001b[90m━━━━━━━━━━━━━━━━━━━━━━━━━━━━━━━━━━━━━━━━\u001b[0m \u001b[32m313.8/313.8 kB\u001b[0m \u001b[31m18.5 MB/s\u001b[0m eta \u001b[36m0:00:00\u001b[0m\n",
            "\u001b[?25hDownloading setproctitle-1.3.3-cp310-cp310-manylinux_2_5_x86_64.manylinux1_x86_64.manylinux_2_17_x86_64.manylinux2014_x86_64.whl (30 kB)\n",
            "Downloading gitdb-4.0.11-py3-none-any.whl (62 kB)\n",
            "\u001b[2K   \u001b[90m━━━━━━━━━━━━━━━━━━━━━━━━━━━━━━━━━━━━━━━━\u001b[0m \u001b[32m62.7/62.7 kB\u001b[0m \u001b[31m4.5 MB/s\u001b[0m eta \u001b[36m0:00:00\u001b[0m\n",
            "\u001b[?25hDownloading smmap-5.0.1-py3-none-any.whl (24 kB)\n",
            "Installing collected packages: smmap, setproctitle, sentry-sdk, docker-pycreds, gitdb, gitpython, wandb\n",
            "Successfully installed docker-pycreds-0.4.0 gitdb-4.0.11 gitpython-3.1.43 sentry-sdk-2.16.0 setproctitle-1.3.3 smmap-5.0.1 wandb-0.18.3\n"
          ]
        }
      ]
    },
    {
      "cell_type": "code",
      "execution_count": null,
      "metadata": {
        "id": "sXZm5wNb0bOv"
      },
      "outputs": [],
      "source": [
        "import wandb\n",
        "\n",
        "import torch\n",
        "from torch.utils.data import Dataset\n",
        "from torch.utils.data import DataLoader\n",
        "from torch.autograd import Variable\n",
        "import torch.nn as nn\n",
        "from torchvision import datasets, transforms\n",
        "import torch.optim as optim\n",
        "\n",
        "import os\n",
        "from typing import Union, Callable, Tuple, List, Literal\n",
        "import random\n",
        "import matplotlib.pyplot as plt\n",
        "import numpy as np\n",
        "import pandas as pd\n",
        "import matplotlib.pyplot as plt\n",
        "from torch.optim.lr_scheduler import StepLR\n",
        "from tqdm import tqdm\n",
        "from sklearn.model_selection import train_test_split"
      ]
    },
    {
      "cell_type": "markdown",
      "metadata": {
        "id": "UlOWpFE20bOv"
      },
      "source": [
        "# Load MNIST\n",
        "\n",
        "The dataset we will be using today is MNIST. It is a datset of small images of handwritten numbers. The task is to take in the image and predict the number.\n",
        "\n",
        "Lets download the data.\n",
        "\n",
        "Note that since we are using an MLP, we must flatten the images from shape (Height, Width) to (Height * Width)."
      ]
    },
    {
      "cell_type": "code",
      "execution_count": null,
      "metadata": {
        "id": "CY6cAye70bOv",
        "colab": {
          "base_uri": "https://localhost:8080/"
        },
        "outputId": "68616de7-ed2b-4234-c1c4-69c95a9b9e28"
      },
      "outputs": [
        {
          "output_type": "stream",
          "name": "stdout",
          "text": [
            "Downloading http://yann.lecun.com/exdb/mnist/train-images-idx3-ubyte.gz\n",
            "Failed to download (trying next):\n",
            "HTTP Error 403: Forbidden\n",
            "\n",
            "Downloading https://ossci-datasets.s3.amazonaws.com/mnist/train-images-idx3-ubyte.gz\n",
            "Downloading https://ossci-datasets.s3.amazonaws.com/mnist/train-images-idx3-ubyte.gz to /root/.pytorch/MNIST_data/MNIST/raw/train-images-idx3-ubyte.gz\n"
          ]
        },
        {
          "output_type": "stream",
          "name": "stderr",
          "text": [
            "100%|██████████| 9912422/9912422 [00:00<00:00, 16495457.23it/s]\n"
          ]
        },
        {
          "output_type": "stream",
          "name": "stdout",
          "text": [
            "Extracting /root/.pytorch/MNIST_data/MNIST/raw/train-images-idx3-ubyte.gz to /root/.pytorch/MNIST_data/MNIST/raw\n",
            "\n",
            "Downloading http://yann.lecun.com/exdb/mnist/train-labels-idx1-ubyte.gz\n",
            "Failed to download (trying next):\n",
            "HTTP Error 403: Forbidden\n",
            "\n",
            "Downloading https://ossci-datasets.s3.amazonaws.com/mnist/train-labels-idx1-ubyte.gz\n",
            "Downloading https://ossci-datasets.s3.amazonaws.com/mnist/train-labels-idx1-ubyte.gz to /root/.pytorch/MNIST_data/MNIST/raw/train-labels-idx1-ubyte.gz\n"
          ]
        },
        {
          "output_type": "stream",
          "name": "stderr",
          "text": [
            "100%|██████████| 28881/28881 [00:00<00:00, 494502.05it/s]\n"
          ]
        },
        {
          "output_type": "stream",
          "name": "stdout",
          "text": [
            "Extracting /root/.pytorch/MNIST_data/MNIST/raw/train-labels-idx1-ubyte.gz to /root/.pytorch/MNIST_data/MNIST/raw\n",
            "\n",
            "Downloading http://yann.lecun.com/exdb/mnist/t10k-images-idx3-ubyte.gz\n",
            "Failed to download (trying next):\n",
            "HTTP Error 403: Forbidden\n",
            "\n",
            "Downloading https://ossci-datasets.s3.amazonaws.com/mnist/t10k-images-idx3-ubyte.gz\n",
            "Downloading https://ossci-datasets.s3.amazonaws.com/mnist/t10k-images-idx3-ubyte.gz to /root/.pytorch/MNIST_data/MNIST/raw/t10k-images-idx3-ubyte.gz\n"
          ]
        },
        {
          "output_type": "stream",
          "name": "stderr",
          "text": [
            "100%|██████████| 1648877/1648877 [00:00<00:00, 4490138.81it/s]\n"
          ]
        },
        {
          "output_type": "stream",
          "name": "stdout",
          "text": [
            "Extracting /root/.pytorch/MNIST_data/MNIST/raw/t10k-images-idx3-ubyte.gz to /root/.pytorch/MNIST_data/MNIST/raw\n",
            "\n",
            "Downloading http://yann.lecun.com/exdb/mnist/t10k-labels-idx1-ubyte.gz\n",
            "Failed to download (trying next):\n",
            "HTTP Error 403: Forbidden\n",
            "\n",
            "Downloading https://ossci-datasets.s3.amazonaws.com/mnist/t10k-labels-idx1-ubyte.gz\n",
            "Downloading https://ossci-datasets.s3.amazonaws.com/mnist/t10k-labels-idx1-ubyte.gz to /root/.pytorch/MNIST_data/MNIST/raw/t10k-labels-idx1-ubyte.gz\n"
          ]
        },
        {
          "output_type": "stream",
          "name": "stderr",
          "text": [
            "100%|██████████| 4542/4542 [00:00<00:00, 2234141.99it/s]"
          ]
        },
        {
          "output_type": "stream",
          "name": "stdout",
          "text": [
            "Extracting /root/.pytorch/MNIST_data/MNIST/raw/t10k-labels-idx1-ubyte.gz to /root/.pytorch/MNIST_data/MNIST/raw\n",
            "\n"
          ]
        },
        {
          "output_type": "stream",
          "name": "stderr",
          "text": [
            "\n"
          ]
        }
      ],
      "source": [
        "# Define a transform to normalize and flatten the data\n",
        "transform = transforms.Compose([\n",
        "    transforms.ToTensor(),\n",
        "    transforms.Normalize((0.5,), (0.5,)),\n",
        "    transforms.Lambda(lambda x: x.view(-1))  # This will flatten the image from (1,28,28) to (784,)\n",
        "])\n",
        "\n",
        "# Download and load the training data\n",
        "trainset = datasets.MNIST('~/.pytorch/MNIST_data/', download=True, train=True, transform=transform)\n",
        "train_loader = torch.utils.data.DataLoader(trainset, batch_size=64, shuffle=True)\n",
        "\n",
        "# Download and load the test data\n",
        "testset = datasets.MNIST('~/.pytorch/MNIST_data/', download=True, train=False, transform=transform)\n",
        "test_loader = torch.utils.data.DataLoader(testset, batch_size=64, shuffle=True)"
      ]
    },
    {
      "cell_type": "markdown",
      "metadata": {
        "id": "Nb7IH-Fj0bOv"
      },
      "source": [
        "Lets visualize the data."
      ]
    },
    {
      "cell_type": "code",
      "execution_count": null,
      "metadata": {
        "id": "cqL2SO0x0bOv",
        "colab": {
          "base_uri": "https://localhost:8080/",
          "height": 402
        },
        "outputId": "a26fb292-713f-4ac9-9eeb-d88683a41c9d"
      },
      "outputs": [
        {
          "output_type": "stream",
          "name": "stdout",
          "text": [
            "images.shape: torch.Size([64, 784])\n",
            "labels.shape: torch.Size([64])\n"
          ]
        },
        {
          "output_type": "display_data",
          "data": {
            "text/plain": [
              "<Figure size 1200x400 with 10 Axes>"
            ],
            "image/png": "[encoded data removed]"
          },
          "metadata": {}
        }
      ],
      "source": [
        "# Get one batch of images from the dataloader\n",
        "sample_images, sample_labels = next(iter(train_loader))\n",
        "\n",
        "print(f\"images.shape: {sample_images.shape}\")\n",
        "print(f\"labels.shape: {sample_labels.shape}\")\n",
        "\n",
        "# Note the dimension of the flatten images\n",
        "mnist_in_dims = sample_images.shape[-1]\n",
        "\n",
        "# Function to display an image\n",
        "def imshow(img):\n",
        "    # Unnormalize the image\n",
        "    img = img * 0.5 + 0.5\n",
        "    img = img.reshape(28, 28)  # reshape back to 28x28\n",
        "    plt.imshow(img, cmap='gray')\n",
        "\n",
        "# Display the first 10 images from the batch, and their corresponding label\n",
        "fig = plt.figure(figsize=(12, 4))\n",
        "for i in range(10):\n",
        "    ax = fig.add_subplot(2, 5, i + 1, xticks=[], yticks=[])\n",
        "    imshow(sample_images[i])\n",
        "    ax.set_title(str(sample_labels[i].item()))\n",
        "\n",
        "plt.show()"
      ]
    },
    {
      "cell_type": "markdown",
      "metadata": {
        "id": "t8tLycg00bOw"
      },
      "source": [
        "#### MLP in Pytorch\n",
        "Now we are at the first section of the lab. Here we implement MLPs in pytorch, and explore different hyperparameters and design decisions."
      ]
    },
    {
      "cell_type": "markdown",
      "metadata": {
        "id": "Rm3okin-0bOw"
      },
      "source": [
        "##### Training loop\n",
        "First define the function for running a single epoch of training."
      ]
    },
    {
      "cell_type": "code",
      "execution_count": null,
      "metadata": {
        "id": "1UEWo_oC0bOw"
      },
      "outputs": [],
      "source": [
        "# Run a single epoch of training\n",
        "def train_single_epoch(\n",
        "    model: nn.Module,\n",
        "    data_loader: torch.utils.data.DataLoader,\n",
        "    gpu: Literal[True, False],\n",
        "    optimizer: torch.optim.Optimizer,\n",
        "    criterion: torch.nn.modules.loss._Loss\n",
        ") -> Tuple[List[float], List[torch.Tensor]]:\n",
        "\n",
        "    model.train()  # Set model to training mode\n",
        "\n",
        "    losses = []\n",
        "    preds = []\n",
        "\n",
        "    # TQDM progress bar for tracking the training loop\n",
        "    range_gen = tqdm(\n",
        "        enumerate(data_loader),\n",
        "        total=len(data_loader),\n",
        "        desc=\"Training Epoch\"\n",
        "    )\n",
        "\n",
        "    # Loop through batches in the data loader\n",
        "    for i, (X, y) in range_gen:\n",
        "\n",
        "        # Move data to GPU if available\n",
        "        if gpu:\n",
        "            X = X.cuda()\n",
        "            y = y.cuda()\n",
        "        else:\n",
        "            X = Variable(X)\n",
        "            y = Variable(y)\n",
        "\n",
        "        ### 🚧 Your code here (start) 🚧 ####\n",
        "        # Reset the gradients in the optimizer to zero\n",
        "        optimizer.zero_grad()\n",
        "\n",
        "        # Compute the predictions of the model for the input data X\n",
        "        output = model(X)\n",
        "\n",
        "        # Compute the loss between the predicted output and the actual labels y\n",
        "        train_loss = criterion(output, y)\n",
        "\n",
        "        # Calculate the gradients of the loss with respect to the model's parameters\n",
        "        train_loss.backward()\n",
        "\n",
        "        # Update the model's parameters based on the gradients\n",
        "        optimizer.step()\n",
        "\n",
        "        ### 🚧 Your code here (end) 🚧 ####\n",
        "\n",
        "        # Log predictions and loss\n",
        "        preds.append(output.detach().cpu())  # Detach and move to CPU to avoid memory issues\n",
        "        losses.append(train_loss.item())  # Append the loss value\n",
        "\n",
        "    return losses, preds"
      ]
    },
    {
      "cell_type": "markdown",
      "source": [],
      "metadata": {
        "id": "Qla1pnb9syOW"
      }
    },
    {
      "cell_type": "markdown",
      "metadata": {
        "id": "ba1v_D6-0bOw"
      },
      "source": [
        "Next define the validation loop. Note, for simplicity, here we will use the MNIST test set as our validation set."
      ]
    },
    {
      "cell_type": "code",
      "execution_count": null,
      "metadata": {
        "id": "x_RTI68z0bOw"
      },
      "outputs": [],
      "source": [
        "# Validate the model over the validation data\n",
        "def validate(\n",
        "    model:nn.Module,\n",
        "    data_loader:torch.utils.data.DataLoader,\n",
        "    gpu:Literal[True, False],\n",
        "    criterion:torch.nn.modules.loss\n",
        "  ) -> Tuple[List[torch.Tensor]]:\n",
        "\n",
        "    model.eval()\n",
        "    losses = []\n",
        "    preds = []\n",
        "    correct = 0\n",
        "    total = 0\n",
        "    with torch.no_grad():\n",
        "        range_gen = tqdm(\n",
        "            enumerate(data_loader),\n",
        "        )\n",
        "\n",
        "        for i, (X, y) in range_gen:\n",
        "\n",
        "            if gpu:\n",
        "                X = X.cuda()\n",
        "                y = y.cuda()\n",
        "            else:\n",
        "                X = Variable(X)\n",
        "                y = Variable(y)\n",
        "\n",
        "            # Compute output\n",
        "            output = model(X)\n",
        "\n",
        "            # Calculate predictions\n",
        "            _, predicted = torch.max(output.data, 1)\n",
        "            total += y.size(0)\n",
        "            correct += (predicted == y).sum().item()\n",
        "\n",
        "            # Logs\n",
        "            losses.append(criterion(output, y).item())\n",
        "            preds.append(output)\n",
        "    accuracy = 100 * correct / total\n",
        "    return losses, accuracy"
      ]
    },
    {
      "cell_type": "markdown",
      "metadata": {
        "id": "HfgdbRWY0bOw"
      },
      "source": [
        "Now the training and validation functions can be combined to create a function that runs multiple epochs of training."
      ]
    },
    {
      "cell_type": "code",
      "execution_count": null,
      "metadata": {
        "id": "ImOkmi7-0bOw"
      },
      "outputs": [],
      "source": [
        "# Run the model training\n",
        "def train(\n",
        "    model:torch.nn,\n",
        "    train_data_loader:torch.utils.data.DataLoader,\n",
        "    val_data_loader:torch.utils.data.DataLoader,\n",
        "    gpu:Literal[True, False],\n",
        "    optimizer:torch.optim,\n",
        "    criterion:torch.nn.modules.loss,\n",
        "    epochs:int,\n",
        "    scheduler:torch.optim.lr_scheduler=None,\n",
        "    use_wandb:int=False\n",
        "  ) -> Tuple[List[torch.Tensor]]:\n",
        "\n",
        "    if gpu:\n",
        "        model.cuda()\n",
        "\n",
        "    # Prepare to track stats\n",
        "    epoch_train_loss = []\n",
        "    epoch_val_loss = []\n",
        "    epoch_val_accuracy = []\n",
        "\n",
        "    # Training loop\n",
        "    for epoch in range(1, epochs+1):\n",
        "\n",
        "        # Train for a single epoch\n",
        "        train_loss_val, _ =  train_single_epoch(\n",
        "            model=model, data_loader=train_data_loader, gpu=gpu,\n",
        "            optimizer=optimizer, criterion=criterion)\n",
        "        # Record train stats\n",
        "        mean_train_loss = np.mean(train_loss_val)\n",
        "        epoch_train_loss.append(mean_train_loss)\n",
        "\n",
        "        # Validate model\n",
        "        val_loss_val, val_accuracy = validate(\n",
        "            model=model, data_loader=val_data_loader, gpu=gpu,\n",
        "            criterion=criterion)\n",
        "        # Record validation stats\n",
        "        mean_val_loss = np.mean(val_loss_val)\n",
        "        epoch_val_loss.append(mean_val_loss)\n",
        "        epoch_val_accuracy.append(val_accuracy)\n",
        "\n",
        "        print(f'Epoch: {epoch}/{epochs} | Train Loss: {mean_train_loss:.4f} | Val Loss: {mean_val_loss:.4f} | Val Accuracy: {val_accuracy:.2f}%')\n",
        "\n",
        "        if use_wandb:\n",
        "          wandb.log({\"train_loss\": mean_train_loss, \"val_loss\": mean_val_loss})\n",
        "\n",
        "    return epoch_train_loss, epoch_val_loss, epoch_val_accuracy"
      ]
    },
    {
      "cell_type": "markdown",
      "metadata": {
        "id": "FH0EzKwg0bOw"
      },
      "source": [
        "#### Train a basic MLP\n",
        "\n",
        "In week1 we introduced a linear regression model constructed in pytorch by inheriting the nn.Module class and creating a linear layer with nn.Linear(). In this section we construct the MLP model using more components.\n",
        "* nn.ReLU() - this defines a relu non-linear activation function\n",
        "* nn.ModuleList() - this the principal way to chain together a number of pytorch Modules using an API similar to python's native 'List' class, which makes it easy to add layers in a flexible way, and we can iterate through the list of layers in the forward method.\n",
        "\n",
        "Here is an example to show the utility of above functions\n",
        "* we build a simple 2-layer Multi-Layer Perceptron (MLP) using PyTorch and use nn.ModuleList to create multi layers of the NN model"
      ]
    },
    {
      "cell_type": "code",
      "execution_count": null,
      "metadata": {
        "id": "Z0Eo0iMu0bOw",
        "colab": {
          "base_uri": "https://localhost:8080/"
        },
        "outputId": "d039a20c-c1e3-4f16-ad13-75dcde21684c"
      },
      "outputs": [
        {
          "output_type": "stream",
          "name": "stdout",
          "text": [
            "Model output: tensor([[ 0.3067,  0.2369],\n",
            "        [ 0.0782,  0.0421],\n",
            "        [ 0.2563, -0.0433]], grad_fn=<AddmmBackward0>)\n"
          ]
        }
      ],
      "source": [
        "class SimpleMLP(nn.Module):\n",
        "    def __init__(self, input_size, hidden_size, output_size):\n",
        "        super(SimpleMLP, self).__init__()\n",
        "        # Using nn.ModuleList to store layers\n",
        "        self.layers = nn.ModuleList([\n",
        "            nn.Linear(input_size, hidden_size),  # First layer: input to hidden\n",
        "            nn.ReLU(),                          # Activation function\n",
        "            nn.Linear(hidden_size, output_size)  # Second layer: hidden to output\n",
        "        ])\n",
        "\n",
        "    # Define the forward pass\n",
        "    def forward(self, x):\n",
        "        for layer in self.layers:\n",
        "            x = layer(x)\n",
        "        return x\n",
        "\n",
        "# Example usage\n",
        "input_size = 10  # Number of input features\n",
        "hidden_size = 5  # Number of neurons in the hidden layer\n",
        "output_size = 2  # Number of output classes\n",
        "\n",
        "# Initialize the model\n",
        "model = SimpleMLP(input_size, hidden_size, output_size)\n",
        "\n",
        "# Create a sample input tensor (batch_size, input_size)\n",
        "input_data = torch.randn(3, input_size)  # Batch of 3 samples\n",
        "\n",
        "# Perform a forward pass\n",
        "output = model(input_data)\n",
        "\n",
        "# Print the output\n",
        "print(\"Model output:\", output)"
      ]
    },
    {
      "cell_type": "markdown",
      "metadata": {
        "id": "0yza16El0bOx"
      },
      "source": [
        "* Besides defining layers manually, for multi-layer neural networks we can also add them more flexibly in the form of lists."
      ]
    },
    {
      "cell_type": "code",
      "execution_count": null,
      "metadata": {
        "id": "ZmP0nYvH0bOx",
        "colab": {
          "base_uri": "https://localhost:8080/"
        },
        "outputId": "c96f15aa-b903-4610-c3a5-e3860f80b935"
      },
      "outputs": [
        {
          "output_type": "stream",
          "name": "stdout",
          "text": [
            "Model output: tensor([[ 0.0034,  0.0170,  0.1688,  0.0933, -0.0028],\n",
            "        [ 0.0268,  0.0019,  0.1379,  0.1021,  0.0177],\n",
            "        [-0.0041,  0.0333,  0.0955,  0.0999,  0.0409]],\n",
            "       grad_fn=<AddmmBackward0>)\n"
          ]
        }
      ],
      "source": [
        "# Define an MLP model using nn.ModuleList\n",
        "class FlexibleMLP(nn.Module):\n",
        "    def __init__(self, input_size, hidden_sizes, output_size, activation_fn=nn.ReLU):\n",
        "        super(FlexibleMLP, self).__init__()\n",
        "        self.layers = nn.ModuleList()  # Initialize an empty ModuleList\n",
        "\n",
        "        # Append first layer (input to first hidden layer)\n",
        "        self.layers.append(nn.Linear(input_size, hidden_sizes[0]))\n",
        "\n",
        "        # Append intermediate layers (hidden layers)\n",
        "        for i in range(1, len(hidden_sizes)):\n",
        "            self.layers.append(nn.Linear(hidden_sizes[i-1], hidden_sizes[i]))\n",
        "\n",
        "        # Append the final layer (last hidden layer to output)\n",
        "        self.layers.append(nn.Linear(hidden_sizes[-1], output_size))\n",
        "\n",
        "        # Store activation function, we'll apply it between the layers\n",
        "        self.activation = activation_fn()\n",
        "\n",
        "    # Define the forward pass\n",
        "    def forward(self, x):\n",
        "        # Pass input through all layers except the last, applying activation after each\n",
        "        for layer in self.layers[:-1]:\n",
        "            x = self.activation(layer(x))  # Apply linear layer followed by activation\n",
        "        # Apply the final layer without activation\n",
        "        x = self.layers[-1](x)\n",
        "        return x\n",
        "\n",
        "# Example usage\n",
        "input_size = 10             # Number of input features\n",
        "hidden_sizes = [20, 15]     # Sizes of hidden layers\n",
        "output_size = 5             # Number of output classes\n",
        "\n",
        "# Initialize the model\n",
        "model = FlexibleMLP(input_size, hidden_sizes, output_size, activation_fn=nn.ReLU)\n",
        "\n",
        "# Create a sample input tensor (batch_size, input_size)\n",
        "input_data = torch.randn(3, input_size)  # Batch of 3 samples\n",
        "\n",
        "# Perform a forward pass\n",
        "output = model(input_data)\n",
        "\n",
        "# Print the output\n",
        "print(\"Model output:\", output)"
      ]
    },
    {
      "cell_type": "markdown",
      "metadata": {
        "id": "cZOiG1rp0bOx"
      },
      "source": [
        "Let's start creating our own MLP model."
      ]
    },
    {
      "cell_type": "code",
      "execution_count": null,
      "metadata": {
        "id": "6wu31Mu40bOx"
      },
      "outputs": [],
      "source": [
        "class MLP(nn.Module):\n",
        "    def __init__(self, input_size, hidden_size, num_classes):\n",
        "        super(MLP, self).__init__()\n",
        "        ## 🚧 Your code here (start) 🚧 ####\n",
        "        # Define the layers using ModuleList\n",
        "              # First fully connected layer\n",
        "              # Activation function\n",
        "              # Second fully connected layer (output)\\\n",
        "        self.layer_1 = nn.Linear(input_size, hidden_size)\n",
        "        self.activation_1 = nn.LeakyReLU()\n",
        "        self.layer_2 = nn.Linear(hidden_size, num_classes)\n",
        "        self.activation_2 = nn.Sigmoid()\n",
        "        ## 🚧 Your code here (end) 🚧 ####\n",
        "\n",
        "    def forward(self, x):\n",
        "        ## Forward pass through the network\n",
        "          # Pass data through each layer sequentially\n",
        "        x = self.layer_1(x)\n",
        "        x = self.activation_1(x)\n",
        "        x = self.layer_2(x)\n",
        "        x = self.activation_2(x)\n",
        "        return x\n",
        "        # IMPORTANT: since we use nn.CrossEntropyLoss() as our loss function,\n",
        "        # we need DON'T an activation on the final model output."
      ]
    },
    {
      "cell_type": "code",
      "execution_count": null,
      "metadata": {
        "id": "6GP7sAgb0bOx",
        "colab": {
          "base_uri": "https://localhost:8080/"
        },
        "outputId": "c81c07fb-fd49-45fe-9778-fa52b3918e42"
      },
      "outputs": [
        {
          "output_type": "stream",
          "name": "stdout",
          "text": [
            "MLP(\n",
            "  (layer_1): Linear(in_features=784, out_features=100, bias=True)\n",
            "  (activation_1): LeakyReLU(negative_slope=0.01)\n",
            "  (layer_2): Linear(in_features=100, out_features=10, bias=True)\n",
            "  (activation_2): Sigmoid()\n",
            ")\n"
          ]
        }
      ],
      "source": [
        "## 🚧 Your code here (start) 🚧 ####\n",
        "# MNIST images are 28x28, so the input dimension is 28 * 28 = 784\n",
        "input_dim = 784\n",
        "\n",
        "# Define the hidden layer size (you can adjust this)\n",
        "hidden_dim = 100\n",
        "\n",
        "# There are 10 classes in MNIST (numbers 0-9)\n",
        "num_classes = 10\n",
        "## 🚧 Your code here (end) 🚧 ####\n",
        "\n",
        "# Initialize MLP\n",
        "mlp_model = MLP(input_dim, hidden_dim, num_classes)\n",
        "print(mlp_model)"
      ]
    },
    {
      "cell_type": "markdown",
      "metadata": {
        "id": "fsTrE8DS0bOx"
      },
      "source": [
        "Expect one epoch of training to take around 20-30 seconds on a CPU."
      ]
    },
    {
      "cell_type": "code",
      "execution_count": null,
      "metadata": {
        "id": "9GH0SAzK0bOx",
        "colab": {
          "base_uri": "https://localhost:8080/"
        },
        "outputId": "e0462585-07c4-4371-833e-e7d6c3b70182"
      },
      "outputs": [
        {
          "output_type": "stream",
          "name": "stderr",
          "text": [
            "Training Epoch: 100%|██████████| 938/938 [00:14<00:00, 63.34it/s]\n",
            "157it [00:02, 74.32it/s]\n"
          ]
        },
        {
          "output_type": "stream",
          "name": "stdout",
          "text": [
            "Epoch: 1/5 | Train Loss: 1.6183 | Val Loss: 1.5494 | Val Accuracy: 90.97%\n"
          ]
        },
        {
          "output_type": "stream",
          "name": "stderr",
          "text": [
            "Training Epoch: 100%|██████████| 938/938 [00:14<00:00, 66.08it/s]\n",
            "157it [00:02, 77.12it/s]\n"
          ]
        },
        {
          "output_type": "stream",
          "name": "stdout",
          "text": [
            "Epoch: 2/5 | Train Loss: 1.5399 | Val Loss: 1.5246 | Val Accuracy: 93.37%\n"
          ]
        },
        {
          "output_type": "stream",
          "name": "stderr",
          "text": [
            "Training Epoch: 100%|██████████| 938/938 [00:14<00:00, 65.97it/s]\n",
            "157it [00:02, 77.24it/s]\n"
          ]
        },
        {
          "output_type": "stream",
          "name": "stdout",
          "text": [
            "Epoch: 3/5 | Train Loss: 1.5203 | Val Loss: 1.5180 | Val Accuracy: 94.08%\n"
          ]
        },
        {
          "output_type": "stream",
          "name": "stderr",
          "text": [
            "Training Epoch: 100%|██████████| 938/938 [00:15<00:00, 61.60it/s]\n",
            "157it [00:02, 74.83it/s]\n"
          ]
        },
        {
          "output_type": "stream",
          "name": "stdout",
          "text": [
            "Epoch: 4/5 | Train Loss: 1.5109 | Val Loss: 1.5047 | Val Accuracy: 95.68%\n"
          ]
        },
        {
          "output_type": "stream",
          "name": "stderr",
          "text": [
            "Training Epoch: 100%|██████████| 938/938 [00:14<00:00, 64.01it/s]\n",
            "157it [00:02, 75.47it/s]"
          ]
        },
        {
          "output_type": "stream",
          "name": "stdout",
          "text": [
            "Epoch: 5/5 | Train Loss: 1.5041 | Val Loss: 1.5032 | Val Accuracy: 95.97%\n"
          ]
        },
        {
          "output_type": "stream",
          "name": "stderr",
          "text": [
            "\n"
          ]
        }
      ],
      "source": [
        "# Set the appropriate loss function and optimizer\n",
        "## 🚧 Your code here (start) 🚧 ####\n",
        "criterion =  nn.CrossEntropyLoss() # Suitable for multi-class classification\n",
        "optimizer = torch.optim.Adam(mlp_model.parameters()) # Adam optimizer with a learning rate of 0.001\n",
        "\n",
        "epochs = 5\n",
        "\n",
        "# Run training\n",
        "epoch_train_loss, epoch_val_loss, epoch_val_accuracy = train(\n",
        "    model=mlp_model,\n",
        "    train_data_loader=train_loader,\n",
        "    val_data_loader=test_loader,\n",
        "    gpu=True,\n",
        "    optimizer=optimizer,\n",
        "    criterion=criterion,\n",
        "    epochs=epochs,\n",
        ")"
      ]
    },
    {
      "cell_type": "markdown",
      "metadata": {
        "id": "XxbRkSko0bOx"
      },
      "source": [
        "Now we plot the results."
      ]
    },
    {
      "cell_type": "code",
      "execution_count": null,
      "metadata": {
        "id": "r21ibPHw0bOx",
        "colab": {
          "base_uri": "https://localhost:8080/",
          "height": 407
        },
        "outputId": "4d903cab-d2dd-4649-8921-2bed4762f0e8"
      },
      "outputs": [
        {
          "output_type": "display_data",
          "data": {
            "text/plain": [
              "<Figure size 1200x400 with 4 Axes>"
            ],
            "image/png": "[encoded data removed]"
          },
          "metadata": {}
        }
      ],
      "source": [
        "# Creating 1x2 subplots\n",
        "fig, (ax1, ax3) = plt.subplots(1, 2, figsize=(12,4))\n",
        "\n",
        "# Plotting loss on the left side\n",
        "ax2 = ax1.twinx()\n",
        "lns1 = ax1.plot(range(1, epochs+1), epoch_train_loss, label=\"Train\")\n",
        "lns2 = ax2.plot(range(1, epochs+1), epoch_val_loss, label=\"Val\", c=\"red\")\n",
        "ax1.set_xlabel(\"Epoch\")\n",
        "ax1.set_ylabel(\"Cross entropy loss\")\n",
        "lns = lns1 + lns2\n",
        "labs = [l.get_label() for l in lns]\n",
        "ax1.legend(lns, labs, loc=0)\n",
        "ax1.set_title(\"Loss vs. Epoch\")\n",
        "\n",
        "# Plotting accuracy on the right side\n",
        "ax4 = ax3.twinx()\n",
        "lns3 = ax4.plot(range(1, epochs+1), epoch_val_accuracy, label=\"Val\", c=\"red\")\n",
        "ax3.set_xlabel(\"Epoch\")\n",
        "ax3.set_ylabel(\"Accuracy\")\n",
        "lns = lns3\n",
        "labs = [l.get_label() for l in lns]\n",
        "ax3.legend(lns, labs, loc=0)\n",
        "ax3.set_title(\"Accuracy vs. Epoch\")\n",
        "\n",
        "plt.tight_layout()\n",
        "plt.show()\n"
      ]
    },
    {
      "cell_type": "markdown",
      "metadata": {
        "id": "sDlkI7fn0bOx"
      },
      "source": [
        "Now lets visualize some predictions!"
      ]
    },
    {
      "cell_type": "code",
      "execution_count": null,
      "metadata": {
        "id": "z_eK_ZgJ0bOx",
        "colab": {
          "base_uri": "https://localhost:8080/",
          "height": 192
        },
        "outputId": "d60262f2-5179-4ff3-a8c9-e32cc1309529"
      },
      "outputs": [
        {
          "output_type": "display_data",
          "data": {
            "text/plain": [
              "<Figure size 1500x300 with 10 Axes>"
            ],
            "image/png": "[encoded data removed]"
          },
          "metadata": {}
        }
      ],
      "source": [
        "def visualize_predictions(model, data_loader, gpu, num_images=10):\n",
        "    model.eval()  # Set model to evaluation mode\n",
        "\n",
        "    # Sample a batch of data from the data loader\n",
        "    images, labels = next(iter(data_loader))\n",
        "\n",
        "    if gpu:\n",
        "        images = images.cuda()\n",
        "        labels = labels.cuda()\n",
        "\n",
        "    ## 🚧 Your code here (start) 🚧 ####\n",
        "    # Get model predictions\n",
        "    outputs = model(images) # Forward pass through the model\n",
        "    _, predicted = torch.max(outputs,1) # Get the index of the highest logit\n",
        "    ## 🚧 Your code here (end) 🚧 ####\n",
        "\n",
        "    # Move to CPU for visualization\n",
        "    images = images.cpu().numpy().reshape(-1, 28, 28)  # Reshape flattened images\n",
        "    labels = labels.cpu().numpy()\n",
        "    predicted = predicted.cpu().numpy()\n",
        "\n",
        "    # Plot images and predictions\n",
        "    fig, axes = plt.subplots(1, num_images, figsize=(15, 3))\n",
        "    for i in range(num_images):\n",
        "        ax = axes[i]\n",
        "        ax.imshow(images[i].squeeze(), cmap='gray')  # Plot the image\n",
        "        ax.set_title(f\"True: {labels[i]}, Pred: {predicted[i]}\")  # Show true and predicted labels\n",
        "        ax.axis('off')\n",
        "    plt.tight_layout()\n",
        "    plt.show()\n",
        "\n",
        "# Assuming test_loader is defined\n",
        "visualize_predictions(mlp_model, test_loader, gpu=True)"
      ]
    },
    {
      "cell_type": "markdown",
      "metadata": {
        "id": "h8X31SjJ0bOx"
      },
      "source": [
        "## MLP design decisions & hyperparameters\n",
        "\n",
        "Now lets explore some different hyperparameters that can be tuned to improve performance. We will look at:\n",
        "\n",
        "- Learning rate\n",
        "- Optimizers\n",
        "- Architecture\n",
        "\n",
        "But you may also consider weight initializations, Activations (e.g. ReLU, sigmoid), regularisation techniques (such as dropout), and early stopping.\n",
        "\n",
        "For each, can you produce a plot that compares across different hyperparameters, to visualize which works best? (W&B may be useful here)\n",
        "\n",
        "First, we should create a more customized model using a similar approach to the FlexibleMLP definition presented previously"
      ]
    },
    {
      "cell_type": "code",
      "execution_count": null,
      "metadata": {
        "id": "A7tSISsB0bOx"
      },
      "outputs": [],
      "source": [
        "class MLP_Customizable(nn.Module):\n",
        "\n",
        "    def __init__(\n",
        "        self,\n",
        "        input_dim:int,\n",
        "        hidden_size:List[int],\n",
        "        n_classes:int,\n",
        "        actvtns:List[Union[None, nn.Module]],\n",
        "        seed=1\n",
        "    ) -> None:\n",
        "\n",
        "        super().__init__()\n",
        "        torch.manual_seed(seed)\n",
        "        assert len(actvtns) == len(hidden_size)\n",
        "        self.layers = nn.ModuleList()\n",
        "\n",
        "        all_layer_size = [*hidden_size, n_classes]\n",
        "        _layer = nn.Linear(\n",
        "                    in_features=input_dim,\n",
        "                    out_features=all_layer_size[0]\n",
        "        )\n",
        "        self.__init_linear(_layer)\n",
        "        self.layers.append(_layer)\n",
        "        if len(hidden_size) > 0:\n",
        "            for i in np.arange(1, len(all_layer_size)):\n",
        "                self.layers.append(actvtns[i-1])\n",
        "                _layer = nn.Linear(\n",
        "                        in_features=all_layer_size[i-1],\n",
        "                        out_features=all_layer_size[i]\n",
        "                )\n",
        "                self.__init_linear(_layer)\n",
        "                self.layers.append(_layer)\n",
        "\n",
        "    def __init_linear(self, layer):\n",
        "        # Note, it is important to correctly initialize the weights of the model!\n",
        "        nn.init.xavier_normal_(layer.weight)\n",
        "        nn.init.zeros_(layer.bias)\n",
        "\n",
        "    def forward(self, x:torch.Tensor) -> torch.Tensor:\n",
        "        for layer in self.layers:\n",
        "            x = layer(x)\n",
        "        return x"
      ]
    },
    {
      "cell_type": "markdown",
      "metadata": {
        "id": "4CuDXZtq0bOx"
      },
      "source": [
        "##### Learning Rates\n",
        "\n",
        "Here, you can explore the effect of the learning rate. Note, learning rate hyperparameter searchers are usually done on a log scale over several orders of magnitude (e.g., 0.1, 0.3, 0.01, 0.003)."
      ]
    },
    {
      "cell_type": "code",
      "execution_count": null,
      "metadata": {
        "id": "UASpDEJY0bOy",
        "colab": {
          "base_uri": "https://localhost:8080/"
        },
        "outputId": "a8ebbbf2-1baf-4877-a708-18e6c63d9bf4"
      },
      "outputs": [
        {
          "output_type": "stream",
          "name": "stderr",
          "text": [
            "Training Epoch: 100%|██████████| 938/938 [00:14<00:00, 66.54it/s]\n",
            "157it [00:02, 74.53it/s]\n"
          ]
        },
        {
          "output_type": "stream",
          "name": "stdout",
          "text": [
            "Epoch: 1/5 | Train Loss: 1.7944 | Val Loss: 1.0744 | Val Accuracy: 82.27%\n"
          ]
        },
        {
          "output_type": "stream",
          "name": "stderr",
          "text": [
            "Training Epoch: 100%|██████████| 938/938 [00:14<00:00, 65.55it/s]\n",
            "157it [00:02, 62.37it/s]\n"
          ]
        },
        {
          "output_type": "stream",
          "name": "stdout",
          "text": [
            "Epoch: 2/5 | Train Loss: 1.7150 | Val Loss: 1.9115 | Val Accuracy: 83.88%\n"
          ]
        },
        {
          "output_type": "stream",
          "name": "stderr",
          "text": [
            "Training Epoch: 100%|██████████| 938/938 [00:17<00:00, 52.36it/s]\n",
            "157it [00:02, 64.70it/s]\n"
          ]
        },
        {
          "output_type": "stream",
          "name": "stdout",
          "text": [
            "Epoch: 3/5 | Train Loss: 1.7706 | Val Loss: 1.5213 | Val Accuracy: 84.12%\n"
          ]
        },
        {
          "output_type": "stream",
          "name": "stderr",
          "text": [
            "Training Epoch: 100%|██████████| 938/938 [00:16<00:00, 56.91it/s]\n",
            "157it [00:02, 64.95it/s]\n"
          ]
        },
        {
          "output_type": "stream",
          "name": "stdout",
          "text": [
            "Epoch: 4/5 | Train Loss: 2.6128 | Val Loss: 3.6345 | Val Accuracy: 81.90%\n"
          ]
        },
        {
          "output_type": "stream",
          "name": "stderr",
          "text": [
            "Training Epoch: 100%|██████████| 938/938 [00:17<00:00, 53.09it/s]\n",
            "157it [00:02, 64.56it/s]\n"
          ]
        },
        {
          "output_type": "stream",
          "name": "stdout",
          "text": [
            "Epoch: 5/5 | Train Loss: 2.1643 | Val Loss: 1.4932 | Val Accuracy: 88.76%\n"
          ]
        },
        {
          "output_type": "stream",
          "name": "stderr",
          "text": [
            "Training Epoch: 100%|██████████| 938/938 [00:16<00:00, 57.32it/s]\n",
            "157it [00:02, 66.55it/s]\n"
          ]
        },
        {
          "output_type": "stream",
          "name": "stdout",
          "text": [
            "Epoch: 1/5 | Train Loss: 0.4573 | Val Loss: 0.2871 | Val Accuracy: 91.26%\n"
          ]
        },
        {
          "output_type": "stream",
          "name": "stderr",
          "text": [
            "Training Epoch: 100%|██████████| 938/938 [00:16<00:00, 57.16it/s]\n",
            "157it [00:03, 47.16it/s]\n"
          ]
        },
        {
          "output_type": "stream",
          "name": "stdout",
          "text": [
            "Epoch: 2/5 | Train Loss: 0.3036 | Val Loss: 0.2280 | Val Accuracy: 93.55%\n"
          ]
        },
        {
          "output_type": "stream",
          "name": "stderr",
          "text": [
            "Training Epoch: 100%|██████████| 938/938 [00:16<00:00, 58.46it/s]\n",
            "157it [00:02, 63.95it/s]\n"
          ]
        },
        {
          "output_type": "stream",
          "name": "stdout",
          "text": [
            "Epoch: 3/5 | Train Loss: 0.2734 | Val Loss: 0.2429 | Val Accuracy: 92.79%\n"
          ]
        },
        {
          "output_type": "stream",
          "name": "stderr",
          "text": [
            "Training Epoch: 100%|██████████| 938/938 [00:16<00:00, 57.57it/s]\n",
            "157it [00:02, 56.39it/s]\n"
          ]
        },
        {
          "output_type": "stream",
          "name": "stdout",
          "text": [
            "Epoch: 4/5 | Train Loss: 0.2596 | Val Loss: 0.2674 | Val Accuracy: 91.97%\n"
          ]
        },
        {
          "output_type": "stream",
          "name": "stderr",
          "text": [
            "Training Epoch: 100%|██████████| 938/938 [00:17<00:00, 54.84it/s]\n",
            "157it [00:02, 65.54it/s]\n"
          ]
        },
        {
          "output_type": "stream",
          "name": "stdout",
          "text": [
            "Epoch: 5/5 | Train Loss: 0.2509 | Val Loss: 0.2784 | Val Accuracy: 91.81%\n"
          ]
        },
        {
          "output_type": "stream",
          "name": "stderr",
          "text": [
            "Training Epoch: 100%|██████████| 938/938 [00:16<00:00, 58.08it/s]\n",
            "157it [00:02, 65.97it/s]\n"
          ]
        },
        {
          "output_type": "stream",
          "name": "stdout",
          "text": [
            "Epoch: 1/5 | Train Loss: 0.3827 | Val Loss: 0.2282 | Val Accuracy: 93.25%\n"
          ]
        },
        {
          "output_type": "stream",
          "name": "stderr",
          "text": [
            "Training Epoch: 100%|██████████| 938/938 [00:17<00:00, 52.73it/s]\n",
            "157it [00:02, 65.66it/s]\n"
          ]
        },
        {
          "output_type": "stream",
          "name": "stdout",
          "text": [
            "Epoch: 2/5 | Train Loss: 0.2140 | Val Loss: 0.1778 | Val Accuracy: 94.54%\n"
          ]
        },
        {
          "output_type": "stream",
          "name": "stderr",
          "text": [
            "Training Epoch: 100%|██████████| 938/938 [00:16<00:00, 58.36it/s]\n",
            "157it [00:02, 75.28it/s]\n"
          ]
        },
        {
          "output_type": "stream",
          "name": "stdout",
          "text": [
            "Epoch: 3/5 | Train Loss: 0.1697 | Val Loss: 0.1673 | Val Accuracy: 94.86%\n"
          ]
        },
        {
          "output_type": "stream",
          "name": "stderr",
          "text": [
            "Training Epoch: 100%|██████████| 938/938 [00:14<00:00, 66.56it/s]\n",
            "157it [00:02, 66.15it/s]\n"
          ]
        },
        {
          "output_type": "stream",
          "name": "stdout",
          "text": [
            "Epoch: 4/5 | Train Loss: 0.1452 | Val Loss: 0.1581 | Val Accuracy: 95.22%\n"
          ]
        },
        {
          "output_type": "stream",
          "name": "stderr",
          "text": [
            "Training Epoch: 100%|██████████| 938/938 [00:14<00:00, 64.97it/s]\n",
            "157it [00:02, 75.74it/s]"
          ]
        },
        {
          "output_type": "stream",
          "name": "stdout",
          "text": [
            "Epoch: 5/5 | Train Loss: 0.1297 | Val Loss: 0.1301 | Val Accuracy: 96.18%\n"
          ]
        },
        {
          "output_type": "stream",
          "name": "stderr",
          "text": [
            "\n"
          ]
        }
      ],
      "source": [
        "# Start with these learning rates\n",
        "learning_rates = [1e-1, 1e-2, 1e-3]\n",
        "epochs = 5\n",
        "\n",
        "all_train_losses = []\n",
        "all_val_losses = []\n",
        "\n",
        "# Train a model for each learning rate\n",
        "for lr in learning_rates:\n",
        "\n",
        "    # if use_wandb:\n",
        "    #   wandb.init(project='diabetes_prediction', config=config)\n",
        "\n",
        "    mlp = MLP_Customizable(\n",
        "        input_dim=mnist_in_dims,\n",
        "        hidden_size= [64],  # 64 hidden units\n",
        "        n_classes= 10,      # 10 output classes for MNIST\n",
        "        actvtns = [nn.LeakyReLU()] # ReLU activation for hidden layer\n",
        "    )\n",
        "\n",
        "    ## 🚧 Your code here (start) 🚧 ####\n",
        "    # You can experiment with different optimizers For example, Adam, SGD, or RMSprop.\n",
        "    optimizer = torch.optim.Adam(mlp.parameters(), lr=lr)  # Using Adam optimizer with variable learning rate\n",
        "    ## 🚧 Your code here (end) 🚧 ####\n",
        "\n",
        "    # Loss function: CrossEntropyLoss is suitable for multi-class classification problems\n",
        "    criterion = nn.CrossEntropyLoss()\n",
        "\n",
        "    # Train the model and save the loss values\n",
        "    epoch_train_loss, epoch_val_loss, epoch_val_accuracy = train(\n",
        "        model=mlp,\n",
        "        train_data_loader=train_loader,\n",
        "        val_data_loader=test_loader,\n",
        "        gpu=False,  # Set to True if using GPU\n",
        "        optimizer=optimizer,\n",
        "        criterion=criterion,\n",
        "        epochs=epochs,\n",
        "    )\n",
        "\n",
        "    # Append the losses for tracking and plotting later\n",
        "    all_train_losses.append(epoch_train_loss)\n",
        "    all_val_losses.append(epoch_val_loss)\n",
        "\n",
        "# Optionally, you can plot the training and validation losses after training for all learning rates"
      ]
    },
    {
      "cell_type": "markdown",
      "metadata": {
        "id": "PlBmalhl0bOy"
      },
      "source": [
        "* High LR: Quick initial progress but can lead to instability or divergence.\n",
        "* Moderate LR: Balanced learning, typically yielding better accuracy and stable convergence.\n",
        "* Low LR: Very stable but slow learning, useful for fine-tuning or when nearing convergence."
      ]
    },
    {
      "cell_type": "code",
      "execution_count": null,
      "metadata": {
        "id": "sNF2WKO30bOy",
        "colab": {
          "base_uri": "https://localhost:8080/",
          "height": 407
        },
        "outputId": "f5878624-22b1-484b-d5e8-8b90947a0802"
      },
      "outputs": [
        {
          "output_type": "display_data",
          "data": {
            "text/plain": [
              "<Figure size 1200x400 with 2 Axes>"
            ],
            "image/png": "[encoded data removed]"
          },
          "metadata": {}
        }
      ],
      "source": [
        "## Plot results\n",
        "\n",
        "fig, (ax1, ax2) = plt.subplots(1, 2, figsize=(12,4))\n",
        "\n",
        "# Plot train losses for each learning rate on the left subplot\n",
        "for i, lr in enumerate(learning_rates):\n",
        "    ax1.plot(all_train_losses[i], label=f\"LR={lr}\")\n",
        "\n",
        "ax1.set_title('Training Losses for different learning rates')\n",
        "ax1.set_xlabel('Epochs')\n",
        "ax1.set_ylabel('Loss')\n",
        "ax1.legend()\n",
        "\n",
        "# Plot validation losses for each learning rate on the right subplot\n",
        "for i, lr in enumerate(learning_rates):\n",
        "    ax2.plot(all_val_losses[i], label=f\"LR={lr}\")\n",
        "\n",
        "ax2.set_title('Validation Losses for different learning rates')\n",
        "ax2.set_xlabel('Epochs')\n",
        "ax2.set_ylabel('Loss')\n",
        "ax2.legend()\n",
        "\n",
        "plt.tight_layout()\n",
        "plt.show()"
      ]
    },
    {
      "cell_type": "markdown",
      "metadata": {
        "id": "MoNOh1yG0bOy"
      },
      "source": [
        "Which learning rates worked best? Why? How did they behave in the early and later stages of training?\n",
        "\n",
        "Try using a [learning rate scheduler](https://pytorch.org/docs/stable/optim.html#how-to-adjust-learning-rate) to see if you can improve upon just using a fixed learning rate. Does this help? If so, what insights does it give?\n",
        "\n",
        "A learning rate scheduler modifies the learning rate during the training process according to a predefined schedule. This can help the model avoid getting stuck in local minima and achieve better performance, particularly as training progresses and we want finer adjustments to the model weights."
      ]
    },
    {
      "cell_type": "code",
      "execution_count": null,
      "metadata": {
        "id": "o02mzTV10bOy"
      },
      "outputs": [],
      "source": [
        "# Define learning rates and number of epochs\n",
        "learning_rates = [1e-1, 1e-2, 1e-3]\n",
        "epochs = 5\n",
        "\n",
        "# Define placeholder lists for losses (with and without scheduler)\n",
        "all_train_losses_no_sched = []\n",
        "all_val_losses_no_sched = []\n",
        "\n",
        "all_train_losses_sched = []\n",
        "all_val_losses_sched = []\n",
        "\n",
        "\n",
        "# Define a function to simulate training\n",
        "def train(model, train_data_loader, val_data_loader, gpu, optimizer, criterion, scheduler=None, epochs=5):\n",
        "    train_losses = []\n",
        "    val_losses = []\n",
        "\n",
        "    for epoch in range(epochs):\n",
        "        model.train()\n",
        "        train_loss = 0\n",
        "        for X_batch, y_batch in train_data_loader:\n",
        "            if gpu:\n",
        "                X_batch, y_batch = X_batch.cuda(), y_batch.cuda()\n",
        "            optimizer.zero_grad()\n",
        "            outputs = model(X_batch)\n",
        "            loss = criterion(outputs, y_batch)\n",
        "            loss.backward()\n",
        "            optimizer.step()\n",
        "            train_loss += loss.item()\n",
        "\n",
        "        train_losses.append(train_loss / len(train_data_loader))\n",
        "\n",
        "        # Validation loop (not updating the model, only checking the loss)\n",
        "        model.eval()\n",
        "        val_loss = 0\n",
        "        with torch.no_grad():\n",
        "            for X_batch, y_batch in val_data_loader:\n",
        "                if gpu:\n",
        "                    X_batch, y_batch = X_batch.cuda(), y_batch.cuda()\n",
        "                outputs = model(X_batch)\n",
        "                loss = criterion(outputs, y_batch)\n",
        "                val_loss += loss.item()\n",
        "\n",
        "        val_losses.append(val_loss / len(val_data_loader))\n",
        "\n",
        "        if scheduler:\n",
        "            scheduler.step()\n",
        "\n",
        "    return train_losses, val_losses\n",
        "\n",
        "# Train models without scheduler\n",
        "for lr in learning_rates:\n",
        "    mlp = MLP_Customizable(input_dim=28*28, hidden_size=[64], n_classes=10, actvtns=[nn.ReLU()])\n",
        "    optimizer = torch.optim.Adam(mlp.parameters(), lr=lr)\n",
        "    criterion = nn.CrossEntropyLoss()\n",
        "\n",
        "    train_losses, val_losses = train(\n",
        "        model=mlp,\n",
        "        train_data_loader=train_loader,\n",
        "        val_data_loader=test_loader,\n",
        "        gpu=False,  # Set to True if using GPU\n",
        "        optimizer=optimizer,\n",
        "        criterion=criterion,\n",
        "        epochs=epochs\n",
        "    )\n",
        "\n",
        "    all_train_losses_no_sched.append(train_losses)\n",
        "    all_val_losses_no_sched.append(val_losses)\n",
        "\n",
        "# Train models with scheduler\n",
        "for lr in learning_rates:\n",
        "    mlp = MLP_Customizable(input_dim=28*28, hidden_size=[64], n_classes=10, actvtns=[nn.ReLU()])\n",
        "    optimizer = torch.optim.Adam(mlp.parameters(), lr=lr)\n",
        "    scheduler = StepLR(optimizer, step_size=2, gamma=0.1)  # Learning rate scheduler\n",
        "    criterion = nn.CrossEntropyLoss()\n",
        "\n",
        "    train_losses, val_losses = train(\n",
        "        model=mlp,\n",
        "        train_data_loader=train_loader,\n",
        "        val_data_loader=test_loader,\n",
        "        gpu=False,  # Set to True if using GPU\n",
        "        optimizer=optimizer,\n",
        "        criterion=criterion,\n",
        "        scheduler=scheduler,\n",
        "        epochs=epochs\n",
        "    )\n",
        "\n",
        "    all_train_losses_sched.append(train_losses)\n",
        "    all_val_losses_sched.append(val_losses)\n",
        "\n"
      ]
    },
    {
      "cell_type": "code",
      "execution_count": null,
      "metadata": {
        "id": "rlFHeOJ30bOy",
        "colab": {
          "base_uri": "https://localhost:8080/",
          "height": 407
        },
        "outputId": "38de813b-4f7e-45f9-d3ef-76088c9be1d3"
      },
      "outputs": [
        {
          "output_type": "display_data",
          "data": {
            "text/plain": [
              "<Figure size 1200x400 with 2 Axes>"
            ],
            "image/png": "[encoded data removed]"
          },
          "metadata": {}
        }
      ],
      "source": [
        "# Plot results\n",
        "fig, (ax1, ax2) = plt.subplots(1, 2, figsize=(12,4))\n",
        "\n",
        "# Plot train losses for each learning rate (without scheduler)\n",
        "for i, lr in enumerate(learning_rates):\n",
        "    ax1.plot(all_train_losses_no_sched[i], label=f\"LR={lr} (No Scheduler)\")\n",
        "\n",
        "# Plot train losses for each learning rate (with scheduler)\n",
        "for i, lr in enumerate(learning_rates):\n",
        "    ax1.plot(all_train_losses_sched[i], '--', label=f\"LR={lr} (With Scheduler)\")\n",
        "\n",
        "ax1.set_title('Training Losses for Different Learning Rates')\n",
        "ax1.set_xlabel('Epochs')\n",
        "ax1.set_ylabel('Loss')\n",
        "ax1.legend()\n",
        "\n",
        "# Plot validation losses for each learning rate (without scheduler)\n",
        "for i, lr in enumerate(learning_rates):\n",
        "    ax2.plot(all_val_losses_no_sched[i], label=f\"LR={lr} (No Scheduler)\")\n",
        "\n",
        "# Plot validation losses for each learning rate (with scheduler)\n",
        "for i, lr in enumerate(learning_rates):\n",
        "    ax2.plot(all_val_losses_sched[i], '--', label=f\"LR={lr} (With Scheduler)\")\n",
        "\n",
        "ax2.set_title('Validation Losses for Different Learning Rates')\n",
        "ax2.set_xlabel('Epochs')\n",
        "ax2.set_ylabel('Loss')\n",
        "ax2.legend()\n",
        "\n",
        "plt.tight_layout()\n",
        "plt.show()"
      ]
    },
    {
      "cell_type": "markdown",
      "metadata": {
        "id": "GqYvDuek0bOy"
      },
      "source": [
        "# 🚨 Implement MLP training from scratch in Numpy 🚨"
      ]
    },
    {
      "cell_type": "markdown",
      "metadata": {
        "id": "OZ8Al_el0bOy"
      },
      "source": [
        "#### Prepare dataset\n",
        "\n",
        "First we need to convert the dataset to numpy."
      ]
    },
    {
      "cell_type": "code",
      "execution_count": null,
      "metadata": {
        "id": "gCBmgC4_0bOy",
        "colab": {
          "base_uri": "https://localhost:8080/"
        },
        "outputId": "023015b4-dfb4-4870-8675-b626a3a067b2"
      },
      "outputs": [
        {
          "output_type": "stream",
          "name": "stdout",
          "text": [
            "Training images shape: (60000, 784)\n",
            "Training labels shape: (60000,)\n",
            "Test images shape: (10000, 784)\n",
            "Test labels shape: (10000,)\n"
          ]
        }
      ],
      "source": [
        "# Convert PyTorch tensors to NumPy arrays (expect this to take 30-60 seconds)\n",
        "\n",
        "# Extract all the training data\n",
        "train_images = [image for image, label in trainset]\n",
        "train_labels = [label for image, label in trainset]\n",
        "\n",
        "# Convert to NumPy arrays\n",
        "train_images_np = torch.stack(train_images).numpy()\n",
        "train_labels_np = torch.tensor(train_labels).numpy()\n",
        "\n",
        "# Extract all the test data\n",
        "test_images = [image for image, label in testset]\n",
        "test_labels = [label for image, label in testset]\n",
        "\n",
        "# Convert to NumPy arrays\n",
        "test_images_np = torch.stack(test_images).numpy()\n",
        "test_labels_np = torch.tensor(test_labels).numpy()\n",
        "\n",
        "print(\"Training images shape:\", train_images_np.shape)\n",
        "print(\"Training labels shape:\", train_labels_np.shape)\n",
        "print(\"Test images shape:\", test_images_np.shape)\n",
        "print(\"Test labels shape:\", test_labels_np.shape)\n",
        "\n",
        "mnist_in_dims = train_images_np.shape[-1]"
      ]
    },
    {
      "cell_type": "markdown",
      "metadata": {
        "id": "NChEGntZ0bOy"
      },
      "source": [
        "We can more easily calculate our loss if the labels are one-hot encoded, so lets do this:"
      ]
    },
    {
      "cell_type": "code",
      "execution_count": null,
      "metadata": {
        "id": "2nMBSsZO0bO1",
        "colab": {
          "base_uri": "https://localhost:8080/"
        },
        "outputId": "9d061c54-b5b0-4de3-bd6d-a06a9c889f1d"
      },
      "outputs": [
        {
          "output_type": "stream",
          "name": "stdout",
          "text": [
            "One-hot training labels shape: (60000, 10)\n",
            "One-hot test labels shape: (10000, 10)\n"
          ]
        }
      ],
      "source": [
        "def one_hot_encode(labels, num_classes):\n",
        "    return np.eye(num_classes)[labels]\n",
        "\n",
        "num_classes = 10  # For MNIST, we have 10 classes (0 through 9)\n",
        "\n",
        "# Convert the labels to one-hot encoding\n",
        "train_labels_onehot_np = one_hot_encode(train_labels_np, num_classes)\n",
        "test_labels_onehot_np = one_hot_encode(test_labels_np, num_classes)\n",
        "\n",
        "# Print the new shapes\n",
        "print(\"One-hot training labels shape:\", train_labels_onehot_np.shape)\n",
        "print(\"One-hot test labels shape:\", test_labels_onehot_np.shape)"
      ]
    },
    {
      "cell_type": "markdown",
      "metadata": {
        "id": "qlYkmfDk0bO1"
      },
      "source": [
        "Note some notation we use:\n",
        "- S = size of dataset (S-tr = training data size, S_te = test data size)\n",
        "- H = height (in pixels) of image\n",
        "- W = width (in pixels) of image\n",
        "- C = the number of classes (always 10 for MNIST)\n",
        "- N = batch size\n",
        "- D_in = dimension of the input to the network\n",
        "- D_hid = dimension of the hidden layer of the network\n",
        "- D_out = dimension of the mlp output (i.e. the number of MNSIT classes)"
      ]
    },
    {
      "cell_type": "markdown",
      "metadata": {
        "id": "WQmRy8290bO1"
      },
      "source": [
        "##### Stochastic Gradient Descent\n",
        "\n",
        "Here we will define some of the higher level framework code to run the SGD training loop."
      ]
    },
    {
      "cell_type": "code",
      "execution_count": null,
      "metadata": {
        "id": "Dz-gP7Mp0bO1"
      },
      "outputs": [],
      "source": [
        "def plot_train_progress(loss_l, acc_train_l, acc_test_l, iters_per_point, total_iters=None):\n",
        "\n",
        "    fig, axes = plt.subplots(1, 2, sharex=False, sharey=False)\n",
        "    assert len(loss_l) == len(acc_train_l) == len(acc_test_l)\n",
        "    x_points = range(0, len(loss_l)*iters_per_point, iters_per_point)\n",
        "\n",
        "    axes[0].plot(x_points, loss_l, color=\"black\", label=\"Training loss\", linewidth=5)\n",
        "    axes[0].set_title(\"Training loss\", fontsize=10, y=1.022)\n",
        "    axes[0].yaxis.grid(True, zorder=0)\n",
        "    axes[0].set_xlabel('Iteration', fontsize=10)\n",
        "    if total_iters is not None:\n",
        "        axes[0].set_xlim([0,total_iters])\n",
        "    axes[0].set_ylim([0,None])\n",
        "    axes[0].legend(loc='upper right')\n",
        "\n",
        "    axes[1].set_title(\"Accuracy\", fontsize=10, y=1.022)\n",
        "    axes[1].plot(x_points, acc_train_l, color=\"blue\", label=\"Train\", linewidth=5)\n",
        "    axes[1].plot(x_points, acc_test_l, color=\"red\", label=\"Test\", linewidth=5)\n",
        "    axes[1].yaxis.grid(True, zorder=0)\n",
        "    axes[1].set_xlabel('Iteration', fontsize=10)\n",
        "    if total_iters is not None:\n",
        "        axes[1].set_xlim([0,total_iters])\n",
        "    axes[1].set_ylim([0,100])\n",
        "    axes[1].legend(loc='lower right')\n",
        "\n",
        "    plt.show()\n",
        "\n",
        "\n",
        "def get_random_batch(train_imgs, train_lbls, batch_size, rng):\n",
        "    # train_imgs: Images for training. Numpy array of shape [S, H*W]\n",
        "    # train_lbls: Labels of the training images. Numpy array [S, C]\n",
        "    # batch_size: integer. Size that the batch should have (N).\n",
        "\n",
        "    ####### TODO: Sample a random batch of images for training. Fill in the blanks #########\n",
        "    indices = rng.randint(low=0, high=train_imgs.shape[0], size=batch_size, dtype='int32')\n",
        "    ##############################################################################################\n",
        "\n",
        "    train_imgs_batch = train_imgs[indices]\n",
        "    train_lbls_batch = train_lbls[indices]\n",
        "    return [train_imgs_batch, train_lbls_batch]\n",
        "\n",
        "def gradient_descent(net, loss_func, update_params_func, rng,\n",
        "                     train_imgs, train_lbls, test_imgs, test_lbls,\n",
        "                     batch_size, learning_rate, total_iters, iters_per_test=-1 ):\n",
        "    # net: Instance of a model. See classes: MLP_Numpy, MLP_Torch, MLP_Torch_Autograd, CNN_Torch_Autograd.\n",
        "    # loss_func: Function that computes the loss. See functions: cross_entropy_numpy/torch.\n",
        "    # update_params_func: Function performing SGD parameter updates. See: grad_descent_update_numpy/torch/autograd\n",
        "    # rng: numpy random number generator\n",
        "    # train_imgs: The training images. Numpy array, shape [S_tr, H*W]\n",
        "    # test_imgs: Save as above, for testing images. [S_te, H*W]\n",
        "    # train_lbls: One hot representation of labels corresponding to train_imgs. Numpy array, shape [S_tr, C]\n",
        "    # test_lbls: As above, but for testing data. [S_te, C]\n",
        "    # batch_size: Size N of the batch that should be processed per SGD iteration by a model.\n",
        "    # learning_rate: self explanatory.\n",
        "    # total_iters: how many iterations in total to perform.\n",
        "    # iters_per_test: Integer. Every that many iterations the model predicts the test data and accuracy is reported.\n",
        "    values_to_plot = {'loss':[], 'acc_train': [], 'acc_test': []}\n",
        "\n",
        "    for t in range(total_iters):\n",
        "        # Sample batch for this SGD iteration\n",
        "        train_imgs_batch, train_lbls_batch = get_random_batch(train_imgs, train_lbls, batch_size, rng)\n",
        "\n",
        "        # Forward pass\n",
        "        y_pred = net.forward_pass(train_imgs_batch)\n",
        "\n",
        "        # Compute loss: Cross Entropy\n",
        "        y_real = train_lbls_batch\n",
        "        loss = loss_func(y_pred, y_real)\n",
        "\n",
        "        # Backwards pass. Compute gradients.\n",
        "        grads = net.backward_pass(loss, y_real)\n",
        "\n",
        "        # Update weights with gradient descent\n",
        "        update_params_func(net.params, grads, learning_rate=learning_rate)\n",
        "\n",
        "\n",
        "        # ==== Report training loss and accuracy ======\n",
        "        # y_pred and loss can be either np.array, or torch.tensor (see later). If tensor, make it np.array.\n",
        "        y_pred_numpy = y_pred if type(y_pred) is np.ndarray else y_pred.detach().numpy()\n",
        "        y_pred_lbls = np.argmax(y_pred_numpy, axis=1) # y_pred is soft/probability. Make it a hard one-hot label.\n",
        "        y_real_lbls = np.argmax(y_real, axis=1)\n",
        "\n",
        "        acc_train = np.mean(y_pred_lbls == y_real_lbls) * 100. # percentage\n",
        "\n",
        "        loss_numpy = loss if type(loss) is type(float) else loss.item()\n",
        "        print(\"[iter:\", t, \"]: Training Loss: {0:.2f}\".format(loss), \"\\t Accuracy: {0:.2f}\".format(acc_train))\n",
        "\n",
        "        # =============== Every few iterations, predict the testing-database ================#\n",
        "        if t==total_iters-1 or t%iters_per_test == 0:\n",
        "            y_pred_test = net.forward_pass(test_imgs)\n",
        "            # ==== Report test accuracy ======\n",
        "            y_pred_test_numpy = y_pred_test if type(y_pred_test) is np.ndarray else y_pred_test.detach().numpy()\n",
        "            y_pred_lbls_test = np.argmax(y_pred_test_numpy, axis=1)\n",
        "            y_real_lbls_test = np.argmax(test_lbls, axis=1)\n",
        "            acc_test = np.mean(y_pred_lbls_test == y_real_lbls_test) * 100.\n",
        "            print(\"\\t\\t\\t\\t\\t\\t\\t\\t Testing Accuracy: {0:.2f}\".format(acc_test))\n",
        "\n",
        "            # Keep list of metrics to plot progress.\n",
        "            values_to_plot['loss'].append(loss_numpy)\n",
        "            values_to_plot['acc_train'].append(acc_train)\n",
        "            values_to_plot['acc_test'].append(acc_test)\n",
        "    # In the end of the process, plot loss accuracy on training and testing data.\n",
        "    plot_train_progress(values_to_plot['loss'], values_to_plot['acc_train'], values_to_plot['acc_test'], iters_per_test)"
      ]
    },
    {
      "cell_type": "markdown",
      "metadata": {
        "id": "FSszCht30bO1"
      },
      "source": [
        "##### Classification with Multi-Layer Perceptron (MLP) in Numpy\n",
        "\n",
        "Now we implement the low level details of the MLP and the forward and backward pass!\n",
        "\n",
        "The network will have a single hidden layer, taking the form:\n",
        "\n",
        "`x -> fully connected -> relu -> fully connected -> softmax`\n",
        "(Note, in the code we will use 'h' to denote the hidden layer activations, rather than the 'z' used in the image above)"
      ]
    },
    {
      "cell_type": "markdown",
      "metadata": {
        "id": "j6PAnvV10bO1"
      },
      "source": [
        "![image.png](data:image/png;base64,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)"
      ]
    },
    {
      "cell_type": "code",
      "execution_count": null,
      "metadata": {
        "id": "TMSDDj9S0bO2",
        "colab": {
          "base_uri": "https://localhost:8080/"
        },
        "outputId": "784f050f-b7bc-4865-e28e-d698548117d0"
      },
      "outputs": [
        {
          "output_type": "stream",
          "name": "stdout",
          "text": [
            "[iter: 0 ]: Training Loss: 2.32 \t Accuracy: 2.50\n",
            "\t\t\t\t\t\t\t\t Testing Accuracy: 14.35\n",
            "[iter: 1 ]: Training Loss: 2.31 \t Accuracy: 5.00\n",
            "[iter: 2 ]: Training Loss: 2.29 \t Accuracy: 17.50\n",
            "[iter: 3 ]: Training Loss: 2.29 \t Accuracy: 22.50\n",
            "[iter: 4 ]: Training Loss: 2.27 \t Accuracy: 37.50\n",
            "[iter: 5 ]: Training Loss: 2.28 \t Accuracy: 22.50\n",
            "[iter: 6 ]: Training Loss: 2.29 \t Accuracy: 17.50\n",
            "[iter: 7 ]: Training Loss: 2.27 \t Accuracy: 17.50\n",
            "[iter: 8 ]: Training Loss: 2.26 \t Accuracy: 22.50\n",
            "[iter: 9 ]: Training Loss: 2.27 \t Accuracy: 10.00\n",
            "[iter: 10 ]: Training Loss: 2.23 \t Accuracy: 25.00\n",
            "\t\t\t\t\t\t\t\t Testing Accuracy: 14.31\n",
            "[iter: 11 ]: Training Loss: 2.22 \t Accuracy: 22.50\n",
            "[iter: 12 ]: Training Loss: 2.27 \t Accuracy: 12.50\n",
            "[iter: 13 ]: Training Loss: 2.26 \t Accuracy: 10.00\n",
            "[iter: 14 ]: Training Loss: 2.23 \t Accuracy: 20.00\n",
            "[iter: 15 ]: Training Loss: 2.21 \t Accuracy: 25.00\n",
            "[iter: 16 ]: Training Loss: 2.23 \t Accuracy: 15.00\n",
            "[iter: 17 ]: Training Loss: 2.22 \t Accuracy: 25.00\n",
            "[iter: 18 ]: Training Loss: 2.22 \t Accuracy: 25.00\n",
            "[iter: 19 ]: Training Loss: 2.22 \t Accuracy: 30.00\n",
            "[iter: 20 ]: Training Loss: 2.29 \t Accuracy: 5.00\n",
            "\t\t\t\t\t\t\t\t Testing Accuracy: 34.75\n",
            "[iter: 21 ]: Training Loss: 2.22 \t Accuracy: 35.00\n",
            "[iter: 22 ]: Training Loss: 2.21 \t Accuracy: 35.00\n",
            "[iter: 23 ]: Training Loss: 2.21 \t Accuracy: 42.50\n",
            "[iter: 24 ]: Training Loss: 2.23 \t Accuracy: 30.00\n",
            "[iter: 25 ]: Training Loss: 2.22 \t Accuracy: 32.50\n",
            "[iter: 26 ]: Training Loss: 2.21 \t Accuracy: 30.00\n",
            "[iter: 27 ]: Training Loss: 2.23 \t Accuracy: 20.00\n",
            "[iter: 28 ]: Training Loss: 2.17 \t Accuracy: 45.00\n",
            "[iter: 29 ]: Training Loss: 2.21 \t Accuracy: 35.00\n",
            "[iter: 30 ]: Training Loss: 2.19 \t Accuracy: 42.50\n",
            "\t\t\t\t\t\t\t\t Testing Accuracy: 48.59\n",
            "[iter: 31 ]: Training Loss: 2.18 \t Accuracy: 42.50\n",
            "[iter: 32 ]: Training Loss: 2.17 \t Accuracy: 57.50\n",
            "[iter: 33 ]: Training Loss: 2.16 \t Accuracy: 50.00\n",
            "[iter: 34 ]: Training Loss: 2.16 \t Accuracy: 55.00\n",
            "[iter: 35 ]: Training Loss: 2.11 \t Accuracy: 72.50\n",
            "[iter: 36 ]: Training Loss: 2.17 \t Accuracy: 37.50\n",
            "[iter: 37 ]: Training Loss: 2.16 \t Accuracy: 57.50\n",
            "[iter: 38 ]: Training Loss: 2.11 \t Accuracy: 55.00\n",
            "[iter: 39 ]: Training Loss: 2.15 \t Accuracy: 50.00\n",
            "[iter: 40 ]: Training Loss: 2.16 \t Accuracy: 42.50\n",
            "\t\t\t\t\t\t\t\t Testing Accuracy: 52.71\n",
            "[iter: 41 ]: Training Loss: 2.15 \t Accuracy: 55.00\n",
            "[iter: 42 ]: Training Loss: 2.11 \t Accuracy: 57.50\n",
            "[iter: 43 ]: Training Loss: 2.13 \t Accuracy: 47.50\n",
            "[iter: 44 ]: Training Loss: 2.14 \t Accuracy: 42.50\n",
            "[iter: 45 ]: Training Loss: 2.11 \t Accuracy: 47.50\n",
            "[iter: 46 ]: Training Loss: 2.06 \t Accuracy: 62.50\n",
            "[iter: 47 ]: Training Loss: 2.10 \t Accuracy: 57.50\n",
            "[iter: 48 ]: Training Loss: 2.06 \t Accuracy: 60.00\n",
            "[iter: 49 ]: Training Loss: 2.11 \t Accuracy: 55.00\n",
            "[iter: 50 ]: Training Loss: 2.08 \t Accuracy: 52.50\n",
            "\t\t\t\t\t\t\t\t Testing Accuracy: 53.21\n",
            "[iter: 51 ]: Training Loss: 2.07 \t Accuracy: 52.50\n",
            "[iter: 52 ]: Training Loss: 2.09 \t Accuracy: 45.00\n",
            "[iter: 53 ]: Training Loss: 2.13 \t Accuracy: 45.00\n",
            "[iter: 54 ]: Training Loss: 2.07 \t Accuracy: 50.00\n",
            "[iter: 55 ]: Training Loss: 2.07 \t Accuracy: 52.50\n",
            "[iter: 56 ]: Training Loss: 2.05 \t Accuracy: 60.00\n",
            "[iter: 57 ]: Training Loss: 2.05 \t Accuracy: 52.50\n",
            "[iter: 58 ]: Training Loss: 1.99 \t Accuracy: 70.00\n",
            "[iter: 59 ]: Training Loss: 2.08 \t Accuracy: 40.00\n",
            "[iter: 60 ]: Training Loss: 1.97 \t Accuracy: 62.50\n",
            "\t\t\t\t\t\t\t\t Testing Accuracy: 51.72\n",
            "[iter: 61 ]: Training Loss: 2.02 \t Accuracy: 42.50\n",
            "[iter: 62 ]: Training Loss: 1.99 \t Accuracy: 55.00\n",
            "[iter: 63 ]: Training Loss: 1.98 \t Accuracy: 57.50\n",
            "[iter: 64 ]: Training Loss: 1.99 \t Accuracy: 50.00\n",
            "[iter: 65 ]: Training Loss: 1.96 \t Accuracy: 57.50\n",
            "[iter: 66 ]: Training Loss: 1.95 \t Accuracy: 50.00\n",
            "[iter: 67 ]: Training Loss: 2.01 \t Accuracy: 40.00\n",
            "[iter: 68 ]: Training Loss: 2.03 \t Accuracy: 47.50\n",
            "[iter: 69 ]: Training Loss: 1.90 \t Accuracy: 55.00\n",
            "[iter: 70 ]: Training Loss: 2.00 \t Accuracy: 55.00\n",
            "\t\t\t\t\t\t\t\t Testing Accuracy: 56.47\n",
            "[iter: 71 ]: Training Loss: 1.99 \t Accuracy: 55.00\n",
            "[iter: 72 ]: Training Loss: 2.00 \t Accuracy: 55.00\n",
            "[iter: 73 ]: Training Loss: 1.96 \t Accuracy: 50.00\n",
            "[iter: 74 ]: Training Loss: 1.99 \t Accuracy: 55.00\n",
            "[iter: 75 ]: Training Loss: 1.93 \t Accuracy: 55.00\n",
            "[iter: 76 ]: Training Loss: 1.94 \t Accuracy: 55.00\n",
            "[iter: 77 ]: Training Loss: 1.90 \t Accuracy: 65.00\n",
            "[iter: 78 ]: Training Loss: 1.92 \t Accuracy: 60.00\n",
            "[iter: 79 ]: Training Loss: 1.96 \t Accuracy: 42.50\n",
            "[iter: 80 ]: Training Loss: 1.94 \t Accuracy: 60.00\n",
            "\t\t\t\t\t\t\t\t Testing Accuracy: 60.70\n",
            "[iter: 81 ]: Training Loss: 1.92 \t Accuracy: 67.50\n",
            "[iter: 82 ]: Training Loss: 1.87 \t Accuracy: 65.00\n",
            "[iter: 83 ]: Training Loss: 1.89 \t Accuracy: 52.50\n",
            "[iter: 84 ]: Training Loss: 1.94 \t Accuracy: 60.00\n",
            "[iter: 85 ]: Training Loss: 1.78 \t Accuracy: 70.00\n",
            "[iter: 86 ]: Training Loss: 1.89 \t Accuracy: 45.00\n",
            "[iter: 87 ]: Training Loss: 1.84 \t Accuracy: 52.50\n",
            "[iter: 88 ]: Training Loss: 1.88 \t Accuracy: 62.50\n",
            "[iter: 89 ]: Training Loss: 1.77 \t Accuracy: 67.50\n",
            "[iter: 90 ]: Training Loss: 1.80 \t Accuracy: 62.50\n",
            "\t\t\t\t\t\t\t\t Testing Accuracy: 62.05\n",
            "[iter: 91 ]: Training Loss: 1.89 \t Accuracy: 57.50\n",
            "[iter: 92 ]: Training Loss: 1.82 \t Accuracy: 60.00\n",
            "[iter: 93 ]: Training Loss: 1.82 \t Accuracy: 57.50\n",
            "[iter: 94 ]: Training Loss: 1.91 \t Accuracy: 47.50\n",
            "[iter: 95 ]: Training Loss: 1.69 \t Accuracy: 75.00\n",
            "[iter: 96 ]: Training Loss: 1.89 \t Accuracy: 67.50\n",
            "[iter: 97 ]: Training Loss: 1.80 \t Accuracy: 70.00\n",
            "[iter: 98 ]: Training Loss: 1.84 \t Accuracy: 62.50\n",
            "[iter: 99 ]: Training Loss: 1.77 \t Accuracy: 65.00\n",
            "[iter: 100 ]: Training Loss: 1.82 \t Accuracy: 72.50\n",
            "\t\t\t\t\t\t\t\t Testing Accuracy: 69.53\n",
            "[iter: 101 ]: Training Loss: 1.78 \t Accuracy: 67.50\n",
            "[iter: 102 ]: Training Loss: 1.79 \t Accuracy: 67.50\n",
            "[iter: 103 ]: Training Loss: 1.66 \t Accuracy: 77.50\n",
            "[iter: 104 ]: Training Loss: 1.72 \t Accuracy: 72.50\n",
            "[iter: 105 ]: Training Loss: 1.78 \t Accuracy: 55.00\n",
            "[iter: 106 ]: Training Loss: 1.80 \t Accuracy: 57.50\n",
            "[iter: 107 ]: Training Loss: 1.63 \t Accuracy: 72.50\n",
            "[iter: 108 ]: Training Loss: 1.69 \t Accuracy: 75.00\n",
            "[iter: 109 ]: Training Loss: 1.75 \t Accuracy: 62.50\n",
            "[iter: 110 ]: Training Loss: 1.70 \t Accuracy: 62.50\n",
            "\t\t\t\t\t\t\t\t Testing Accuracy: 65.43\n",
            "[iter: 111 ]: Training Loss: 1.62 \t Accuracy: 65.00\n",
            "[iter: 112 ]: Training Loss: 1.77 \t Accuracy: 55.00\n",
            "[iter: 113 ]: Training Loss: 1.79 \t Accuracy: 47.50\n",
            "[iter: 114 ]: Training Loss: 1.71 \t Accuracy: 62.50\n",
            "[iter: 115 ]: Training Loss: 1.70 \t Accuracy: 65.00\n",
            "[iter: 116 ]: Training Loss: 1.61 \t Accuracy: 67.50\n",
            "[iter: 117 ]: Training Loss: 1.65 \t Accuracy: 67.50\n",
            "[iter: 118 ]: Training Loss: 1.71 \t Accuracy: 70.00\n",
            "[iter: 119 ]: Training Loss: 1.60 \t Accuracy: 70.00\n",
            "[iter: 120 ]: Training Loss: 1.57 \t Accuracy: 72.50\n",
            "\t\t\t\t\t\t\t\t Testing Accuracy: 66.59\n",
            "[iter: 121 ]: Training Loss: 1.69 \t Accuracy: 57.50\n",
            "[iter: 122 ]: Training Loss: 1.56 \t Accuracy: 72.50\n",
            "[iter: 123 ]: Training Loss: 1.74 \t Accuracy: 55.00\n",
            "[iter: 124 ]: Training Loss: 1.62 \t Accuracy: 75.00\n",
            "[iter: 125 ]: Training Loss: 1.57 \t Accuracy: 70.00\n",
            "[iter: 126 ]: Training Loss: 1.64 \t Accuracy: 72.50\n",
            "[iter: 127 ]: Training Loss: 1.64 \t Accuracy: 62.50\n",
            "[iter: 128 ]: Training Loss: 1.50 \t Accuracy: 82.50\n",
            "[iter: 129 ]: Training Loss: 1.51 \t Accuracy: 75.00\n",
            "[iter: 130 ]: Training Loss: 1.50 \t Accuracy: 65.00\n",
            "\t\t\t\t\t\t\t\t Testing Accuracy: 71.00\n",
            "[iter: 131 ]: Training Loss: 1.51 \t Accuracy: 72.50\n",
            "[iter: 132 ]: Training Loss: 1.63 \t Accuracy: 67.50\n",
            "[iter: 133 ]: Training Loss: 1.59 \t Accuracy: 77.50\n",
            "[iter: 134 ]: Training Loss: 1.44 \t Accuracy: 72.50\n",
            "[iter: 135 ]: Training Loss: 1.48 \t Accuracy: 75.00\n",
            "[iter: 136 ]: Training Loss: 1.57 \t Accuracy: 65.00\n",
            "[iter: 137 ]: Training Loss: 1.62 \t Accuracy: 70.00\n",
            "[iter: 138 ]: Training Loss: 1.44 \t Accuracy: 80.00\n",
            "[iter: 139 ]: Training Loss: 1.46 \t Accuracy: 82.50\n",
            "[iter: 140 ]: Training Loss: 1.63 \t Accuracy: 70.00\n",
            "\t\t\t\t\t\t\t\t Testing Accuracy: 70.47\n",
            "[iter: 141 ]: Training Loss: 1.45 \t Accuracy: 72.50\n",
            "[iter: 142 ]: Training Loss: 1.52 \t Accuracy: 80.00\n",
            "[iter: 143 ]: Training Loss: 1.50 \t Accuracy: 67.50\n",
            "[iter: 144 ]: Training Loss: 1.38 \t Accuracy: 85.00\n",
            "[iter: 145 ]: Training Loss: 1.41 \t Accuracy: 75.00\n",
            "[iter: 146 ]: Training Loss: 1.59 \t Accuracy: 62.50\n",
            "[iter: 147 ]: Training Loss: 1.49 \t Accuracy: 67.50\n",
            "[iter: 148 ]: Training Loss: 1.44 \t Accuracy: 75.00\n",
            "[iter: 149 ]: Training Loss: 1.55 \t Accuracy: 75.00\n",
            "[iter: 150 ]: Training Loss: 1.47 \t Accuracy: 75.00\n",
            "\t\t\t\t\t\t\t\t Testing Accuracy: 76.72\n",
            "[iter: 151 ]: Training Loss: 1.38 \t Accuracy: 85.00\n",
            "[iter: 152 ]: Training Loss: 1.50 \t Accuracy: 67.50\n",
            "[iter: 153 ]: Training Loss: 1.42 \t Accuracy: 80.00\n",
            "[iter: 154 ]: Training Loss: 1.39 \t Accuracy: 75.00\n",
            "[iter: 155 ]: Training Loss: 1.36 \t Accuracy: 80.00\n",
            "[iter: 156 ]: Training Loss: 1.37 \t Accuracy: 85.00\n",
            "[iter: 157 ]: Training Loss: 1.34 \t Accuracy: 82.50\n",
            "[iter: 158 ]: Training Loss: 1.31 \t Accuracy: 80.00\n",
            "[iter: 159 ]: Training Loss: 1.43 \t Accuracy: 70.00\n",
            "[iter: 160 ]: Training Loss: 1.38 \t Accuracy: 70.00\n",
            "\t\t\t\t\t\t\t\t Testing Accuracy: 70.58\n",
            "[iter: 161 ]: Training Loss: 1.29 \t Accuracy: 72.50\n",
            "[iter: 162 ]: Training Loss: 1.39 \t Accuracy: 70.00\n",
            "[iter: 163 ]: Training Loss: 1.24 \t Accuracy: 80.00\n",
            "[iter: 164 ]: Training Loss: 1.42 \t Accuracy: 65.00\n",
            "[iter: 165 ]: Training Loss: 1.24 \t Accuracy: 77.50\n",
            "[iter: 166 ]: Training Loss: 1.27 \t Accuracy: 70.00\n",
            "[iter: 167 ]: Training Loss: 1.39 \t Accuracy: 67.50\n",
            "[iter: 168 ]: Training Loss: 1.32 \t Accuracy: 75.00\n",
            "[iter: 169 ]: Training Loss: 1.37 \t Accuracy: 67.50\n",
            "[iter: 170 ]: Training Loss: 1.33 \t Accuracy: 67.50\n",
            "\t\t\t\t\t\t\t\t Testing Accuracy: 74.64\n",
            "[iter: 171 ]: Training Loss: 1.21 \t Accuracy: 80.00\n",
            "[iter: 172 ]: Training Loss: 1.33 \t Accuracy: 80.00\n",
            "[iter: 173 ]: Training Loss: 1.32 \t Accuracy: 77.50\n",
            "[iter: 174 ]: Training Loss: 1.11 \t Accuracy: 77.50\n",
            "[iter: 175 ]: Training Loss: 1.19 \t Accuracy: 80.00\n",
            "[iter: 176 ]: Training Loss: 1.36 \t Accuracy: 70.00\n",
            "[iter: 177 ]: Training Loss: 1.20 \t Accuracy: 85.00\n",
            "[iter: 178 ]: Training Loss: 1.22 \t Accuracy: 85.00\n",
            "[iter: 179 ]: Training Loss: 1.28 \t Accuracy: 77.50\n",
            "[iter: 180 ]: Training Loss: 1.27 \t Accuracy: 67.50\n",
            "\t\t\t\t\t\t\t\t Testing Accuracy: 73.03\n",
            "[iter: 181 ]: Training Loss: 1.23 \t Accuracy: 70.00\n",
            "[iter: 182 ]: Training Loss: 1.23 \t Accuracy: 72.50\n",
            "[iter: 183 ]: Training Loss: 1.12 \t Accuracy: 75.00\n",
            "[iter: 184 ]: Training Loss: 1.30 \t Accuracy: 70.00\n",
            "[iter: 185 ]: Training Loss: 1.39 \t Accuracy: 67.50\n",
            "[iter: 186 ]: Training Loss: 1.32 \t Accuracy: 67.50\n",
            "[iter: 187 ]: Training Loss: 1.21 \t Accuracy: 67.50\n",
            "[iter: 188 ]: Training Loss: 1.21 \t Accuracy: 80.00\n",
            "[iter: 189 ]: Training Loss: 1.31 \t Accuracy: 72.50\n",
            "[iter: 190 ]: Training Loss: 1.19 \t Accuracy: 72.50\n",
            "\t\t\t\t\t\t\t\t Testing Accuracy: 76.17\n",
            "[iter: 191 ]: Training Loss: 1.29 \t Accuracy: 67.50\n",
            "[iter: 192 ]: Training Loss: 1.28 \t Accuracy: 67.50\n",
            "[iter: 193 ]: Training Loss: 1.20 \t Accuracy: 77.50\n",
            "[iter: 194 ]: Training Loss: 1.19 \t Accuracy: 82.50\n",
            "[iter: 195 ]: Training Loss: 1.19 \t Accuracy: 70.00\n",
            "[iter: 196 ]: Training Loss: 1.26 \t Accuracy: 70.00\n",
            "[iter: 197 ]: Training Loss: 1.11 \t Accuracy: 80.00\n",
            "[iter: 198 ]: Training Loss: 1.10 \t Accuracy: 85.00\n",
            "[iter: 199 ]: Training Loss: 1.20 \t Accuracy: 70.00\n",
            "[iter: 200 ]: Training Loss: 1.15 \t Accuracy: 62.50\n",
            "\t\t\t\t\t\t\t\t Testing Accuracy: 78.85\n",
            "[iter: 201 ]: Training Loss: 1.34 \t Accuracy: 67.50\n",
            "[iter: 202 ]: Training Loss: 1.10 \t Accuracy: 87.50\n",
            "[iter: 203 ]: Training Loss: 1.22 \t Accuracy: 70.00\n",
            "[iter: 204 ]: Training Loss: 0.92 \t Accuracy: 90.00\n",
            "[iter: 205 ]: Training Loss: 1.04 \t Accuracy: 80.00\n",
            "[iter: 206 ]: Training Loss: 1.12 \t Accuracy: 82.50\n",
            "[iter: 207 ]: Training Loss: 1.10 \t Accuracy: 82.50\n",
            "[iter: 208 ]: Training Loss: 1.06 \t Accuracy: 80.00\n",
            "[iter: 209 ]: Training Loss: 1.06 \t Accuracy: 80.00\n",
            "[iter: 210 ]: Training Loss: 1.13 \t Accuracy: 72.50\n",
            "\t\t\t\t\t\t\t\t Testing Accuracy: 78.66\n",
            "[iter: 211 ]: Training Loss: 1.04 \t Accuracy: 80.00\n",
            "[iter: 212 ]: Training Loss: 1.15 \t Accuracy: 75.00\n",
            "[iter: 213 ]: Training Loss: 1.05 \t Accuracy: 82.50\n",
            "[iter: 214 ]: Training Loss: 1.09 \t Accuracy: 82.50\n",
            "[iter: 215 ]: Training Loss: 1.02 \t Accuracy: 87.50\n",
            "[iter: 216 ]: Training Loss: 1.21 \t Accuracy: 75.00\n",
            "[iter: 217 ]: Training Loss: 1.14 \t Accuracy: 75.00\n",
            "[iter: 218 ]: Training Loss: 1.13 \t Accuracy: 70.00\n",
            "[iter: 219 ]: Training Loss: 1.06 \t Accuracy: 70.00\n",
            "[iter: 220 ]: Training Loss: 1.22 \t Accuracy: 75.00\n",
            "\t\t\t\t\t\t\t\t Testing Accuracy: 79.91\n",
            "[iter: 221 ]: Training Loss: 1.05 \t Accuracy: 85.00\n",
            "[iter: 222 ]: Training Loss: 0.99 \t Accuracy: 80.00\n",
            "[iter: 223 ]: Training Loss: 1.12 \t Accuracy: 75.00\n",
            "[iter: 224 ]: Training Loss: 0.99 \t Accuracy: 82.50\n",
            "[iter: 225 ]: Training Loss: 1.02 \t Accuracy: 75.00\n",
            "[iter: 226 ]: Training Loss: 1.24 \t Accuracy: 62.50\n",
            "[iter: 227 ]: Training Loss: 1.14 \t Accuracy: 67.50\n",
            "[iter: 228 ]: Training Loss: 0.96 \t Accuracy: 82.50\n",
            "[iter: 229 ]: Training Loss: 1.21 \t Accuracy: 70.00\n",
            "[iter: 230 ]: Training Loss: 1.05 \t Accuracy: 80.00\n",
            "\t\t\t\t\t\t\t\t Testing Accuracy: 80.35\n",
            "[iter: 231 ]: Training Loss: 0.95 \t Accuracy: 87.50\n",
            "[iter: 232 ]: Training Loss: 1.00 \t Accuracy: 77.50\n",
            "[iter: 233 ]: Training Loss: 0.95 \t Accuracy: 82.50\n",
            "[iter: 234 ]: Training Loss: 1.04 \t Accuracy: 80.00\n",
            "[iter: 235 ]: Training Loss: 1.00 \t Accuracy: 82.50\n",
            "[iter: 236 ]: Training Loss: 1.18 \t Accuracy: 75.00\n",
            "[iter: 237 ]: Training Loss: 0.96 \t Accuracy: 80.00\n",
            "[iter: 238 ]: Training Loss: 1.06 \t Accuracy: 72.50\n",
            "[iter: 239 ]: Training Loss: 1.00 \t Accuracy: 80.00\n",
            "[iter: 240 ]: Training Loss: 1.00 \t Accuracy: 80.00\n",
            "\t\t\t\t\t\t\t\t Testing Accuracy: 80.39\n",
            "[iter: 241 ]: Training Loss: 1.10 \t Accuracy: 70.00\n",
            "[iter: 242 ]: Training Loss: 0.94 \t Accuracy: 87.50\n",
            "[iter: 243 ]: Training Loss: 0.97 \t Accuracy: 72.50\n",
            "[iter: 244 ]: Training Loss: 1.01 \t Accuracy: 75.00\n",
            "[iter: 245 ]: Training Loss: 1.00 \t Accuracy: 75.00\n",
            "[iter: 246 ]: Training Loss: 1.12 \t Accuracy: 70.00\n",
            "[iter: 247 ]: Training Loss: 1.03 \t Accuracy: 80.00\n",
            "[iter: 248 ]: Training Loss: 0.97 \t Accuracy: 80.00\n",
            "[iter: 249 ]: Training Loss: 1.00 \t Accuracy: 80.00\n",
            "[iter: 250 ]: Training Loss: 0.98 \t Accuracy: 77.50\n",
            "\t\t\t\t\t\t\t\t Testing Accuracy: 80.74\n",
            "[iter: 251 ]: Training Loss: 0.92 \t Accuracy: 87.50\n",
            "[iter: 252 ]: Training Loss: 1.02 \t Accuracy: 75.00\n",
            "[iter: 253 ]: Training Loss: 0.86 \t Accuracy: 82.50\n",
            "[iter: 254 ]: Training Loss: 0.94 \t Accuracy: 85.00\n",
            "[iter: 255 ]: Training Loss: 0.93 \t Accuracy: 77.50\n",
            "[iter: 256 ]: Training Loss: 0.81 \t Accuracy: 95.00\n",
            "[iter: 257 ]: Training Loss: 0.77 \t Accuracy: 77.50\n",
            "[iter: 258 ]: Training Loss: 1.00 \t Accuracy: 72.50\n",
            "[iter: 259 ]: Training Loss: 0.99 \t Accuracy: 80.00\n",
            "[iter: 260 ]: Training Loss: 0.91 \t Accuracy: 80.00\n",
            "\t\t\t\t\t\t\t\t Testing Accuracy: 81.11\n",
            "[iter: 261 ]: Training Loss: 0.96 \t Accuracy: 70.00\n",
            "[iter: 262 ]: Training Loss: 0.84 \t Accuracy: 80.00\n",
            "[iter: 263 ]: Training Loss: 0.84 \t Accuracy: 87.50\n",
            "[iter: 264 ]: Training Loss: 0.93 \t Accuracy: 85.00\n",
            "[iter: 265 ]: Training Loss: 0.80 \t Accuracy: 85.00\n",
            "[iter: 266 ]: Training Loss: 1.16 \t Accuracy: 62.50\n",
            "[iter: 267 ]: Training Loss: 0.85 \t Accuracy: 85.00\n",
            "[iter: 268 ]: Training Loss: 1.05 \t Accuracy: 67.50\n",
            "[iter: 269 ]: Training Loss: 0.73 \t Accuracy: 95.00\n",
            "[iter: 270 ]: Training Loss: 0.91 \t Accuracy: 75.00\n",
            "\t\t\t\t\t\t\t\t Testing Accuracy: 81.35\n",
            "[iter: 271 ]: Training Loss: 1.01 \t Accuracy: 75.00\n",
            "[iter: 272 ]: Training Loss: 1.00 \t Accuracy: 80.00\n",
            "[iter: 273 ]: Training Loss: 0.98 \t Accuracy: 77.50\n",
            "[iter: 274 ]: Training Loss: 1.00 \t Accuracy: 72.50\n",
            "[iter: 275 ]: Training Loss: 0.77 \t Accuracy: 85.00\n",
            "[iter: 276 ]: Training Loss: 0.86 \t Accuracy: 80.00\n",
            "[iter: 277 ]: Training Loss: 0.75 \t Accuracy: 90.00\n",
            "[iter: 278 ]: Training Loss: 0.90 \t Accuracy: 80.00\n",
            "[iter: 279 ]: Training Loss: 0.87 \t Accuracy: 75.00\n",
            "[iter: 280 ]: Training Loss: 0.76 \t Accuracy: 82.50\n",
            "\t\t\t\t\t\t\t\t Testing Accuracy: 81.77\n",
            "[iter: 281 ]: Training Loss: 0.75 \t Accuracy: 92.50\n",
            "[iter: 282 ]: Training Loss: 0.92 \t Accuracy: 77.50\n",
            "[iter: 283 ]: Training Loss: 0.96 \t Accuracy: 80.00\n",
            "[iter: 284 ]: Training Loss: 0.80 \t Accuracy: 85.00\n",
            "[iter: 285 ]: Training Loss: 0.78 \t Accuracy: 90.00\n",
            "[iter: 286 ]: Training Loss: 0.87 \t Accuracy: 82.50\n",
            "[iter: 287 ]: Training Loss: 0.94 \t Accuracy: 82.50\n",
            "[iter: 288 ]: Training Loss: 0.73 \t Accuracy: 85.00\n",
            "[iter: 289 ]: Training Loss: 0.94 \t Accuracy: 75.00\n",
            "[iter: 290 ]: Training Loss: 0.77 \t Accuracy: 87.50\n",
            "\t\t\t\t\t\t\t\t Testing Accuracy: 82.92\n",
            "[iter: 291 ]: Training Loss: 0.68 \t Accuracy: 87.50\n",
            "[iter: 292 ]: Training Loss: 0.91 \t Accuracy: 72.50\n",
            "[iter: 293 ]: Training Loss: 0.73 \t Accuracy: 87.50\n",
            "[iter: 294 ]: Training Loss: 0.97 \t Accuracy: 77.50\n",
            "[iter: 295 ]: Training Loss: 0.72 \t Accuracy: 87.50\n",
            "[iter: 296 ]: Training Loss: 0.70 \t Accuracy: 87.50\n",
            "[iter: 297 ]: Training Loss: 0.68 \t Accuracy: 90.00\n",
            "[iter: 298 ]: Training Loss: 1.01 \t Accuracy: 77.50\n",
            "[iter: 299 ]: Training Loss: 0.91 \t Accuracy: 72.50\n",
            "[iter: 300 ]: Training Loss: 0.91 \t Accuracy: 75.00\n",
            "\t\t\t\t\t\t\t\t Testing Accuracy: 83.50\n",
            "[iter: 301 ]: Training Loss: 0.81 \t Accuracy: 85.00\n",
            "[iter: 302 ]: Training Loss: 0.80 \t Accuracy: 82.50\n",
            "[iter: 303 ]: Training Loss: 0.82 \t Accuracy: 85.00\n",
            "[iter: 304 ]: Training Loss: 0.88 \t Accuracy: 77.50\n",
            "[iter: 305 ]: Training Loss: 0.80 \t Accuracy: 75.00\n",
            "[iter: 306 ]: Training Loss: 0.90 \t Accuracy: 87.50\n",
            "[iter: 307 ]: Training Loss: 0.79 \t Accuracy: 80.00\n",
            "[iter: 308 ]: Training Loss: 0.85 \t Accuracy: 80.00\n",
            "[iter: 309 ]: Training Loss: 0.73 \t Accuracy: 82.50\n",
            "[iter: 310 ]: Training Loss: 0.66 \t Accuracy: 90.00\n",
            "\t\t\t\t\t\t\t\t Testing Accuracy: 82.99\n",
            "[iter: 311 ]: Training Loss: 0.85 \t Accuracy: 75.00\n",
            "[iter: 312 ]: Training Loss: 0.62 \t Accuracy: 82.50\n",
            "[iter: 313 ]: Training Loss: 0.90 \t Accuracy: 77.50\n",
            "[iter: 314 ]: Training Loss: 0.63 \t Accuracy: 85.00\n",
            "[iter: 315 ]: Training Loss: 1.02 \t Accuracy: 72.50\n",
            "[iter: 316 ]: Training Loss: 0.88 \t Accuracy: 77.50\n",
            "[iter: 317 ]: Training Loss: 0.65 \t Accuracy: 87.50\n",
            "[iter: 318 ]: Training Loss: 0.80 \t Accuracy: 80.00\n",
            "[iter: 319 ]: Training Loss: 0.60 \t Accuracy: 92.50\n",
            "[iter: 320 ]: Training Loss: 0.82 \t Accuracy: 80.00\n",
            "\t\t\t\t\t\t\t\t Testing Accuracy: 83.60\n",
            "[iter: 321 ]: Training Loss: 0.88 \t Accuracy: 82.50\n",
            "[iter: 322 ]: Training Loss: 0.64 \t Accuracy: 97.50\n",
            "[iter: 323 ]: Training Loss: 1.02 \t Accuracy: 72.50\n",
            "[iter: 324 ]: Training Loss: 0.71 \t Accuracy: 87.50\n",
            "[iter: 325 ]: Training Loss: 0.70 \t Accuracy: 80.00\n",
            "[iter: 326 ]: Training Loss: 0.74 \t Accuracy: 87.50\n",
            "[iter: 327 ]: Training Loss: 0.70 \t Accuracy: 90.00\n",
            "[iter: 328 ]: Training Loss: 0.77 \t Accuracy: 85.00\n",
            "[iter: 329 ]: Training Loss: 0.90 \t Accuracy: 80.00\n",
            "[iter: 330 ]: Training Loss: 0.57 \t Accuracy: 92.50\n",
            "\t\t\t\t\t\t\t\t Testing Accuracy: 83.62\n",
            "[iter: 331 ]: Training Loss: 0.58 \t Accuracy: 92.50\n",
            "[iter: 332 ]: Training Loss: 0.74 \t Accuracy: 85.00\n",
            "[iter: 333 ]: Training Loss: 0.74 \t Accuracy: 82.50\n",
            "[iter: 334 ]: Training Loss: 1.00 \t Accuracy: 70.00\n",
            "[iter: 335 ]: Training Loss: 0.82 \t Accuracy: 75.00\n",
            "[iter: 336 ]: Training Loss: 0.58 \t Accuracy: 90.00\n",
            "[iter: 337 ]: Training Loss: 0.65 \t Accuracy: 85.00\n",
            "[iter: 338 ]: Training Loss: 0.64 \t Accuracy: 90.00\n",
            "[iter: 339 ]: Training Loss: 0.72 \t Accuracy: 77.50\n",
            "[iter: 340 ]: Training Loss: 1.02 \t Accuracy: 67.50\n",
            "\t\t\t\t\t\t\t\t Testing Accuracy: 83.02\n",
            "[iter: 341 ]: Training Loss: 0.65 \t Accuracy: 82.50\n",
            "[iter: 342 ]: Training Loss: 0.87 \t Accuracy: 85.00\n",
            "[iter: 343 ]: Training Loss: 0.81 \t Accuracy: 75.00\n",
            "[iter: 344 ]: Training Loss: 0.80 \t Accuracy: 80.00\n",
            "[iter: 345 ]: Training Loss: 0.61 \t Accuracy: 90.00\n",
            "[iter: 346 ]: Training Loss: 0.78 \t Accuracy: 80.00\n",
            "[iter: 347 ]: Training Loss: 0.69 \t Accuracy: 82.50\n",
            "[iter: 348 ]: Training Loss: 0.74 \t Accuracy: 82.50\n",
            "[iter: 349 ]: Training Loss: 0.68 \t Accuracy: 80.00\n",
            "[iter: 350 ]: Training Loss: 0.69 \t Accuracy: 85.00\n",
            "\t\t\t\t\t\t\t\t Testing Accuracy: 84.53\n",
            "[iter: 351 ]: Training Loss: 0.71 \t Accuracy: 82.50\n",
            "[iter: 352 ]: Training Loss: 0.81 \t Accuracy: 80.00\n",
            "[iter: 353 ]: Training Loss: 0.82 \t Accuracy: 82.50\n",
            "[iter: 354 ]: Training Loss: 0.74 \t Accuracy: 80.00\n",
            "[iter: 355 ]: Training Loss: 0.82 \t Accuracy: 82.50\n",
            "[iter: 356 ]: Training Loss: 0.56 \t Accuracy: 95.00\n",
            "[iter: 357 ]: Training Loss: 0.66 \t Accuracy: 85.00\n",
            "[iter: 358 ]: Training Loss: 0.52 \t Accuracy: 92.50\n",
            "[iter: 359 ]: Training Loss: 0.68 \t Accuracy: 85.00\n",
            "[iter: 360 ]: Training Loss: 0.64 \t Accuracy: 87.50\n",
            "\t\t\t\t\t\t\t\t Testing Accuracy: 83.54\n",
            "[iter: 361 ]: Training Loss: 0.74 \t Accuracy: 85.00\n",
            "[iter: 362 ]: Training Loss: 0.68 \t Accuracy: 80.00\n",
            "[iter: 363 ]: Training Loss: 0.65 \t Accuracy: 90.00\n",
            "[iter: 364 ]: Training Loss: 0.75 \t Accuracy: 82.50\n",
            "[iter: 365 ]: Training Loss: 0.63 \t Accuracy: 82.50\n",
            "[iter: 366 ]: Training Loss: 0.46 \t Accuracy: 92.50\n",
            "[iter: 367 ]: Training Loss: 0.63 \t Accuracy: 90.00\n",
            "[iter: 368 ]: Training Loss: 0.87 \t Accuracy: 72.50\n",
            "[iter: 369 ]: Training Loss: 0.61 \t Accuracy: 87.50\n",
            "[iter: 370 ]: Training Loss: 0.75 \t Accuracy: 72.50\n",
            "\t\t\t\t\t\t\t\t Testing Accuracy: 83.97\n",
            "[iter: 371 ]: Training Loss: 0.74 \t Accuracy: 85.00\n",
            "[iter: 372 ]: Training Loss: 0.69 \t Accuracy: 85.00\n",
            "[iter: 373 ]: Training Loss: 0.60 \t Accuracy: 85.00\n",
            "[iter: 374 ]: Training Loss: 0.46 \t Accuracy: 97.50\n",
            "[iter: 375 ]: Training Loss: 0.69 \t Accuracy: 77.50\n",
            "[iter: 376 ]: Training Loss: 0.59 \t Accuracy: 85.00\n",
            "[iter: 377 ]: Training Loss: 0.64 \t Accuracy: 87.50\n",
            "[iter: 378 ]: Training Loss: 0.70 \t Accuracy: 80.00\n",
            "[iter: 379 ]: Training Loss: 0.68 \t Accuracy: 82.50\n",
            "[iter: 380 ]: Training Loss: 0.72 \t Accuracy: 85.00\n",
            "\t\t\t\t\t\t\t\t Testing Accuracy: 84.82\n",
            "[iter: 381 ]: Training Loss: 0.67 \t Accuracy: 77.50\n",
            "[iter: 382 ]: Training Loss: 0.66 \t Accuracy: 82.50\n",
            "[iter: 383 ]: Training Loss: 0.64 \t Accuracy: 85.00\n",
            "[iter: 384 ]: Training Loss: 0.63 \t Accuracy: 82.50\n",
            "[iter: 385 ]: Training Loss: 0.71 \t Accuracy: 75.00\n",
            "[iter: 386 ]: Training Loss: 0.77 \t Accuracy: 82.50\n",
            "[iter: 387 ]: Training Loss: 0.61 \t Accuracy: 85.00\n",
            "[iter: 388 ]: Training Loss: 0.63 \t Accuracy: 92.50\n",
            "[iter: 389 ]: Training Loss: 0.77 \t Accuracy: 80.00\n",
            "[iter: 390 ]: Training Loss: 0.88 \t Accuracy: 82.50\n",
            "\t\t\t\t\t\t\t\t Testing Accuracy: 83.75\n",
            "[iter: 391 ]: Training Loss: 0.80 \t Accuracy: 77.50\n",
            "[iter: 392 ]: Training Loss: 0.62 \t Accuracy: 77.50\n",
            "[iter: 393 ]: Training Loss: 0.82 \t Accuracy: 72.50\n",
            "[iter: 394 ]: Training Loss: 0.62 \t Accuracy: 85.00\n",
            "[iter: 395 ]: Training Loss: 0.55 \t Accuracy: 92.50\n",
            "[iter: 396 ]: Training Loss: 0.88 \t Accuracy: 75.00\n",
            "[iter: 397 ]: Training Loss: 0.83 \t Accuracy: 77.50\n",
            "[iter: 398 ]: Training Loss: 0.80 \t Accuracy: 87.50\n",
            "[iter: 399 ]: Training Loss: 0.68 \t Accuracy: 82.50\n",
            "\t\t\t\t\t\t\t\t Testing Accuracy: 85.27\n"
          ]
        },
        {
          "output_type": "display_data",
          "data": {
            "text/plain": [
              "<Figure size 640x480 with 2 Axes>"
            ],
            "image/png": "[encoded data removed]"
          },
          "metadata": {}
        }
      ],
      "source": [
        "class MLP_Numpy():\n",
        "    def __init__(self, rng: np.random.RandomState, in_dims, hidden_size=1000, n_classes=10):\n",
        "        # Construct and initialize network parameters\n",
        "        D_in = in_dims # Dimension of input feature-vectors. Length of a vectorised image.\n",
        "        D_hid = hidden_size # Dimension of Hidden layer.\n",
        "        D_out = n_classes # Dimension of Output layer. Number of classes\n",
        "\n",
        "        ###### 🚧 TODO: Initialize parameters of MLP by sampling from N(0,0.01). Fill the blanks 🚧 #####\n",
        "        # Also see forward_pass(), to see how they are used. It will help you infer correct shapes.\n",
        "        w1 = rng.normal(loc= 0, scale= 0.01, size=(D_in + 1, D_hid)) # D_in+1 because we add bias in forward pass\n",
        "        w2 = rng.normal(loc= 0, scale= 0.01, size=(D_hid + 1, D_out)) # Params of 2nd layer\n",
        "        self.params = [w1, w2]\n",
        "        #################################################################################\n",
        "\n",
        "    def forward_pass(self, batch_imgs):\n",
        "        # This function applies the model to the input. It essentially defines the model's architecture.\n",
        "        # Input: batch_imgs: Input batch. Numpy.array of [N=number of samples, H=height, W=width] floats.\n",
        "        # Returns: y_pred: array of [N, D_out] floats. y_pred[i] contains class posterior (probs) for sample i.\n",
        "        [w1, w2] = self.params\n",
        "\n",
        "        unary_feature_for_bias = np.ones(shape=(batch_imgs.shape[0], 1)) # [N, 1] column vector.\n",
        "        x = np.concatenate((batch_imgs, unary_feature_for_bias), axis=1) # Extra feature=1 for bias. # shape: [Batch_size, D_in + 1]\n",
        "\n",
        "        ################ 🚧 TODO: Fill the blanks 🚧 ##############################################\n",
        "        # Build network of form: x -> fully connected -> relu -> fully connected -> softmax\n",
        "        # Hidden layer\n",
        "        h1 = np.matmul(x, w1) # shape: [Batch_size, D_hid]\n",
        "        h1_relu = h1 * (h1 > 0)\n",
        "        # Fully-connected classifier.\n",
        "        h1_ext = np.concatenate((h1_relu, unary_feature_for_bias), axis=1) # Extend for bias. Output shape: [N, D_hid+1]\n",
        "        h2 = np.matmul(h1_ext, w2) # Output shape: [N, D_out]\n",
        "        logits = h2\n",
        "        ############################################################################################\n",
        "\n",
        "        # Softmax activation function.\n",
        "        exp_logits = np.exp(logits)\n",
        "        y_pred = exp_logits / np.sum(exp_logits, axis=1, keepdims=True)\n",
        "        # sum with Keepdims=True returns [N,1] array. It would be [N] if keepdims=False.\n",
        "        # Numpy broadcasts [N,1] to [N,D_out] via repetition, to divide elementwise exp_h2 (which is [N,D_out]).\n",
        "\n",
        "        # Store activations. Will be needed for backprop.\n",
        "        self.__activations = [x, h1, h1_relu, h1_ext, h2, y_pred]\n",
        "\n",
        "        return y_pred\n",
        "\n",
        "\n",
        "    def backward_pass(self, loss, y_real): # NOTE: Loss value is not directly needed for computing grads in closed form.\n",
        "        # Performs back-propagation in closed form.\n",
        "        # Computes the gradient of the loss with respect to trainable parameters.\n",
        "        # y_real: Array [N, D_out]. y_real[i] is one-hot representation of real training label for i-th sample.\n",
        "        # returns grads: list of arrays, one for each trainable parameter.\n",
        "\n",
        "        [x, h1, h1_relu, h1_ext, h2, y_pred] = self.__activations\n",
        "        [w1, w2] = self.params\n",
        "\n",
        "        N = y_pred.shape[0]\n",
        "        D_out = y_pred.shape[1]\n",
        "\n",
        "        # Derivative of cross entropy wrt input to softmax (straight, without intermediate computes)\n",
        "        # Difficult derivation. Nice explanation at: https://deepnotes.io/softmax-crossentropy\n",
        "        grad_logits = (y_pred - y_real) / N\n",
        "\n",
        "        ##### 🚧 TODO: Fill in the blanks (to complete the back-prop for the 2-layers MLP 🚧 ###########\n",
        "        grad_w2 = np.matmul(np.transpose(h1_ext), grad_logits) # shape: [D_hid+1, D_out]. So it's [D_hid+1, N] dot [N, D_out]\n",
        "        grad_h1_ext = np.matmul(grad_logits, np.transpose(w2)) # shape: [N, D_hid+1]\n",
        "        grad_h1_relu =  grad_h1_ext[:, :-1] # Drop the extra feature dimension for the bias [N, D_hid]\n",
        "        grad_h1 = 1 * grad_h1_relu # Derivatives of activation functions. Size should be [N, D_hid]\n",
        "        grad_h1[h1 < 0] = 0 # Derivatives of activation functions.\n",
        "        grad_w1 = np.matmul(np.transpose(x), grad_h1) # Shape [D_in+1, D_hid]\n",
        "        ###############################################################################################\n",
        "\n",
        "        # Elements of below list must be in same order as in self.params.\n",
        "        # Each of the subarrays has the same shape as that of corresponding trainable parameter in self.params.\n",
        "        grads = [grad_w1, grad_w2]\n",
        "        return grads\n",
        "\n",
        "\n",
        "def cross_entropy_numpy(y_pred, y_real, eps=1e-7):\n",
        "    # Cross entropy\n",
        "    # y_pred: Predicted class-posterior probabilities, returned by forward_pass. Matrix of shape [N, D_out]\n",
        "    # y_real: One-hot representation of real training labels. Same shape as y_pred.\n",
        "\n",
        "    ################# 🚧 TODO: Complete the calculation of cross-entropy for each sample 🚧 ################\n",
        "    x_entropy_no_sum = y_real * np.log(y_pred)\n",
        "    x_entropy_no_sum = np.nan_to_num(x_entropy_no_sum)\n",
        "    x_entr_per_sample = - np.sum(y_real * np.log(y_pred), axis = 1) # Sum over classes, axis=1\n",
        "    ##################################################################################################\n",
        "\n",
        "    loss = np.mean(x_entr_per_sample, axis=0) # Expectation of loss: Mean over samples (axis=0).\n",
        "    return loss\n",
        "\n",
        "\n",
        "def grad_descent_update_numpy(params, grads, learning_rate):\n",
        "    # params: list of trainable parameters, created in initializer of the model.\n",
        "    # grads: list of gradients, returned by backward pass of model. grads[i] corresponds to params[i]\n",
        "    # learning_rate: a float.\n",
        "    assert len(params)==len(grads)\n",
        "    for i in range(len(params)):\n",
        "        ##### 🚧 TODO: Perform the updates of the parameters by filling the blanks 🚧 ###########\n",
        "        params[i] -= grads[i] * learning_rate\n",
        "        ##########################################################################################\n",
        "\n",
        "# Create the network\n",
        "SEED = 42\n",
        "rng = np.random.RandomState(seed=SEED) # Random number generator\n",
        "net = MLP_Numpy(rng=rng, in_dims=mnist_in_dims)\n",
        "# Start training\n",
        "gradient_descent(net,\n",
        "                 cross_entropy_numpy, # We are using the Numpy version we wrote above.\n",
        "                 grad_descent_update_numpy, # We are using the Numpy version we wrote above.\n",
        "                 rng,\n",
        "                 train_images_np,\n",
        "                 train_labels_onehot_np,\n",
        "                 test_images_np,\n",
        "                 test_labels_onehot_np,\n",
        "                 batch_size=40,\n",
        "                 learning_rate=1e-2,\n",
        "                 total_iters=400,\n",
        "                 iters_per_test=10)"
      ]
    }
  ],
  "metadata": {
    "kernelspec": {
      "display_name": "Python 3",
      "name": "python3"
    },
    "language_info": {
      "codemirror_mode": {
        "name": "ipython",
        "version": 3
      },
      "file_extension": ".py",
      "mimetype": "text/x-python",
      "name": "python",
      "nbconvert_exporter": "python",
      "pygments_lexer": "ipython3",
      "version": "3.10.14"
    },
    "colab": {
      "provenance": [],
      "gpuType": "T4",
      "include_colab_link": true
    },
    "accelerator": "GPU"
  },
  "nbformat": 4,
  "nbformat_minor": 0
}